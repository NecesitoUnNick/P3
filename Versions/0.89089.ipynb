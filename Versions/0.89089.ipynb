{
  "nbformat": 4,
  "nbformat_minor": 0,
  "metadata": {
    "kernelspec": {
      "display_name": "Python 3",
      "language": "python",
      "name": "python3"
    },
    "language_info": {
      "codemirror_mode": {
        "name": "ipython",
        "version": 3
      },
      "file_extension": ".py",
      "mimetype": "text/x-python",
      "name": "python",
      "nbconvert_exporter": "python",
      "pygments_lexer": "ipython3",
      "version": "3.7.0"
    },
    "colab": {
      "name": "0.89089L.ipynb",
      "provenance": [],
      "collapsed_sections": [],
      "toc_visible": true,
      "machine_shape": "hm"
    }
  },
  "cells": [
    {
      "cell_type": "markdown",
      "metadata": {
        "id": "Np4BvX-8c54-",
        "colab_type": "text"
      },
      "source": [
        "# Project 2\n",
        "\n",
        "\n",
        "# Movie Genre Classification\n",
        "\n",
        "Classify a movie genre based on its plot.\n",
        "\n",
        "<img src=\"https://github.com/andresmarin94/Repositorio_Personal/blob/master/moviegenre.png?raw=1\"\n",
        "     style=\"float: left; margin-right: 10px;\" />\n",
        "\n",
        "\n",
        "\n",
        "\n",
        "https://www.kaggle.com/c/miia4200-20191-p2-moviegenreclassification/overview\n",
        "\n",
        "\n",
        "### Data\n",
        "\n",
        "Input:\n",
        "- movie plot\n",
        "\n",
        "Output:\n",
        "Probability of the movie belong to each genre\n",
        "\n",
        "\n",
        "### Evaluation\n",
        "\n",
        "- 20% API\n",
        "- 30% Create a solution using with a Machine Learning algorithm - Presentation (5 slides)\n",
        "- 50% Performance in the Kaggle competition (Normalized acording to class performance in the private leaderboard)\n",
        "\n",
        "\n",
        "### Acknowledgements\n",
        "\n",
        "We thank Professor Fabio Gonzalez, Ph.D. and his student John Arevalo for providing this dataset.\n",
        "\n",
        "See https://arxiv.org/abs/1702.01992"
      ]
    },
    {
      "cell_type": "markdown",
      "metadata": {
        "id": "X96jGTUFc54-",
        "colab_type": "text"
      },
      "source": [
        "## Sample Submission"
      ]
    },
    {
      "cell_type": "code",
      "metadata": {
        "id": "KNv8Uhecc54_",
        "colab_type": "code",
        "colab": {
          "base_uri": "https://localhost:8080/",
          "height": 51
        },
        "outputId": "54fd10eb-3de9-401f-d803-3fd38d4d059e"
      },
      "source": [
        "import pandas as pd\n",
        "import os\n",
        "import numpy as np\n",
        "from sklearn.feature_extraction.text import CountVectorizer, TfidfVectorizer\n",
        "from sklearn.preprocessing import MultiLabelBinarizer\n",
        "from sklearn.multiclass import OneVsRestClassifier\n",
        "from sklearn.ensemble import RandomForestRegressor, RandomForestClassifier,AdaBoostClassifier,GradientBoostingClassifier,BaggingClassifier\n",
        "from sklearn.metrics import r2_score, roc_auc_score\n",
        "from sklearn.model_selection import train_test_split\n",
        "from sklearn.tree import DecisionTreeClassifier\n",
        "from nltk.stem import WordNetLemmatizer\n",
        "import nltk\n",
        "nltk.download('wordnet')\n",
        "import xgboost\n",
        "from sklearn.linear_model import LogisticRegression, LogisticRegressionCV"
      ],
      "execution_count": 109,
      "outputs": [
        {
          "output_type": "stream",
          "text": [
            "[nltk_data] Downloading package wordnet to /root/nltk_data...\n",
            "[nltk_data]   Package wordnet is already up-to-date!\n"
          ],
          "name": "stdout"
        }
      ]
    },
    {
      "cell_type": "code",
      "metadata": {
        "id": "3mNIDIbTc55D",
        "colab_type": "code",
        "colab": {}
      },
      "source": [
        "import re"
      ],
      "execution_count": 110,
      "outputs": []
    },
    {
      "cell_type": "code",
      "metadata": {
        "id": "5xtIHE5Cc55E",
        "colab_type": "code",
        "colab": {}
      },
      "source": [
        "dataTraining = pd.read_csv('https://github.com/albahnsen/AdvancedMethodsDataAnalysisClass/raw/master/datasets/dataTraining.zip', encoding='UTF-8', index_col=0)\n",
        "dataTesting = pd.read_csv('https://github.com/albahnsen/AdvancedMethodsDataAnalysisClass/raw/master/datasets/dataTesting.zip', encoding='UTF-8', index_col=0)"
      ],
      "execution_count": 111,
      "outputs": []
    },
    {
      "cell_type": "markdown",
      "metadata": {
        "id": "UQzfCxJZc55G",
        "colab_type": "text"
      },
      "source": [
        "### Create count vectorizer\n"
      ]
    },
    {
      "cell_type": "code",
      "metadata": {
        "id": "TZ87APvnghhv",
        "colab_type": "code",
        "colab": {
          "base_uri": "https://localhost:8080/",
          "height": 204
        },
        "outputId": "681382e3-491b-46ba-a4e7-5579ae81ef85"
      },
      "source": [
        "dataTraining.head(5)"
      ],
      "execution_count": 112,
      "outputs": [
        {
          "output_type": "execute_result",
          "data": {
            "text/html": [
              "<div>\n",
              "<style scoped>\n",
              "    .dataframe tbody tr th:only-of-type {\n",
              "        vertical-align: middle;\n",
              "    }\n",
              "\n",
              "    .dataframe tbody tr th {\n",
              "        vertical-align: top;\n",
              "    }\n",
              "\n",
              "    .dataframe thead th {\n",
              "        text-align: right;\n",
              "    }\n",
              "</style>\n",
              "<table border=\"1\" class=\"dataframe\">\n",
              "  <thead>\n",
              "    <tr style=\"text-align: right;\">\n",
              "      <th></th>\n",
              "      <th>year</th>\n",
              "      <th>title</th>\n",
              "      <th>plot</th>\n",
              "      <th>genres</th>\n",
              "      <th>rating</th>\n",
              "    </tr>\n",
              "  </thead>\n",
              "  <tbody>\n",
              "    <tr>\n",
              "      <th>3107</th>\n",
              "      <td>2003</td>\n",
              "      <td>Most</td>\n",
              "      <td>most is the story of a single father who takes...</td>\n",
              "      <td>['Short', 'Drama']</td>\n",
              "      <td>8.0</td>\n",
              "    </tr>\n",
              "    <tr>\n",
              "      <th>900</th>\n",
              "      <td>2008</td>\n",
              "      <td>How to Be a Serial Killer</td>\n",
              "      <td>a serial killer decides to teach the secrets o...</td>\n",
              "      <td>['Comedy', 'Crime', 'Horror']</td>\n",
              "      <td>5.6</td>\n",
              "    </tr>\n",
              "    <tr>\n",
              "      <th>6724</th>\n",
              "      <td>1941</td>\n",
              "      <td>A Woman's Face</td>\n",
              "      <td>in sweden ,  a female blackmailer with a disfi...</td>\n",
              "      <td>['Drama', 'Film-Noir', 'Thriller']</td>\n",
              "      <td>7.2</td>\n",
              "    </tr>\n",
              "    <tr>\n",
              "      <th>4704</th>\n",
              "      <td>1954</td>\n",
              "      <td>Executive Suite</td>\n",
              "      <td>in a friday afternoon in new york ,  the presi...</td>\n",
              "      <td>['Drama']</td>\n",
              "      <td>7.4</td>\n",
              "    </tr>\n",
              "    <tr>\n",
              "      <th>2582</th>\n",
              "      <td>1990</td>\n",
              "      <td>Narrow Margin</td>\n",
              "      <td>in los angeles ,  the editor of a publishing h...</td>\n",
              "      <td>['Action', 'Crime', 'Thriller']</td>\n",
              "      <td>6.6</td>\n",
              "    </tr>\n",
              "  </tbody>\n",
              "</table>\n",
              "</div>"
            ],
            "text/plain": [
              "      year  ... rating\n",
              "3107  2003  ...    8.0\n",
              "900   2008  ...    5.6\n",
              "6724  1941  ...    7.2\n",
              "4704  1954  ...    7.4\n",
              "2582  1990  ...    6.6\n",
              "\n",
              "[5 rows x 5 columns]"
            ]
          },
          "metadata": {
            "tags": []
          },
          "execution_count": 112
        }
      ]
    },
    {
      "cell_type": "code",
      "metadata": {
        "id": "fLZIhs0MddT-",
        "colab_type": "code",
        "colab": {
          "base_uri": "https://localhost:8080/",
          "height": 204
        },
        "outputId": "d12702e8-4eca-4b46-ab88-3a568f7166a5"
      },
      "source": [
        "dataTesting.head(5)"
      ],
      "execution_count": 113,
      "outputs": [
        {
          "output_type": "execute_result",
          "data": {
            "text/html": [
              "<div>\n",
              "<style scoped>\n",
              "    .dataframe tbody tr th:only-of-type {\n",
              "        vertical-align: middle;\n",
              "    }\n",
              "\n",
              "    .dataframe tbody tr th {\n",
              "        vertical-align: top;\n",
              "    }\n",
              "\n",
              "    .dataframe thead th {\n",
              "        text-align: right;\n",
              "    }\n",
              "</style>\n",
              "<table border=\"1\" class=\"dataframe\">\n",
              "  <thead>\n",
              "    <tr style=\"text-align: right;\">\n",
              "      <th></th>\n",
              "      <th>year</th>\n",
              "      <th>title</th>\n",
              "      <th>plot</th>\n",
              "    </tr>\n",
              "  </thead>\n",
              "  <tbody>\n",
              "    <tr>\n",
              "      <th>1</th>\n",
              "      <td>1999</td>\n",
              "      <td>Message in a Bottle</td>\n",
              "      <td>who meets by fate ,  shall be sealed by fate ....</td>\n",
              "    </tr>\n",
              "    <tr>\n",
              "      <th>4</th>\n",
              "      <td>1978</td>\n",
              "      <td>Midnight Express</td>\n",
              "      <td>the true story of billy hayes ,  an american c...</td>\n",
              "    </tr>\n",
              "    <tr>\n",
              "      <th>5</th>\n",
              "      <td>1996</td>\n",
              "      <td>Primal Fear</td>\n",
              "      <td>martin vail left the chicago da ' s office to ...</td>\n",
              "    </tr>\n",
              "    <tr>\n",
              "      <th>6</th>\n",
              "      <td>1950</td>\n",
              "      <td>Crisis</td>\n",
              "      <td>husband and wife americans dr .  eugene and mr...</td>\n",
              "    </tr>\n",
              "    <tr>\n",
              "      <th>7</th>\n",
              "      <td>1959</td>\n",
              "      <td>The Tingler</td>\n",
              "      <td>the coroner and scientist dr .  warren chapin ...</td>\n",
              "    </tr>\n",
              "  </tbody>\n",
              "</table>\n",
              "</div>"
            ],
            "text/plain": [
              "   year                title                                               plot\n",
              "1  1999  Message in a Bottle  who meets by fate ,  shall be sealed by fate ....\n",
              "4  1978     Midnight Express  the true story of billy hayes ,  an american c...\n",
              "5  1996          Primal Fear  martin vail left the chicago da ' s office to ...\n",
              "6  1950               Crisis  husband and wife americans dr .  eugene and mr...\n",
              "7  1959          The Tingler  the coroner and scientist dr .  warren chapin ..."
            ]
          },
          "metadata": {
            "tags": []
          },
          "execution_count": 113
        }
      ]
    },
    {
      "cell_type": "code",
      "metadata": {
        "id": "mGavhh4_c55H",
        "colab_type": "code",
        "colab": {}
      },
      "source": [
        "dataTraining['title']=dataTraining['title'].str.lower()\n",
        "dataTraining['title']=dataTraining['title'].str.replace(',', '') \n",
        "dataTraining['title']=dataTraining['title'].str.replace('.', '') \n",
        "dataTraining['title']=dataTraining['title'].str.replace('-', '') \n",
        "dataTraining['title']=dataTraining['title'].str.replace('_', '') \n",
        "dataTraining['plot']=dataTraining['plot'].str.lower()\n",
        "dataTraining['plot']=dataTraining['plot'].str.replace(',', '') \n",
        "dataTraining['plot']=dataTraining['plot'].str.replace('.', '') \n",
        "dataTraining['plot']=dataTraining['plot'].str.replace('-', '') \n",
        "dataTraining['plot']=dataTraining['plot'].str.replace('_', '') "
      ],
      "execution_count": 114,
      "outputs": []
    },
    {
      "cell_type": "code",
      "metadata": {
        "id": "9CP6fTokc55J",
        "colab_type": "code",
        "colab": {}
      },
      "source": [
        "dataTesting['plot']=dataTesting['plot'].str.lower()\n",
        "dataTesting['plot']=dataTesting['plot'].str.replace(',', '') \n",
        "dataTesting['plot']=dataTesting['plot'].str.replace('.', '') \n",
        "dataTesting['plot']=dataTesting['plot'].str.replace('-', '') \n",
        "dataTesting['plot']=dataTesting['plot'].str.replace('_', '')\n",
        "dataTesting['title']=dataTesting['title'].str.lower()\n",
        "dataTesting['title']=dataTesting['title'].str.replace(',', '') \n",
        "dataTesting['title']=dataTesting['title'].str.replace('.', '') \n",
        "dataTesting['title']=dataTesting['title'].str.replace('-', '') \n",
        "dataTesting['title']=dataTesting['title'].str.replace('_', '') "
      ],
      "execution_count": 115,
      "outputs": []
    },
    {
      "cell_type": "code",
      "metadata": {
        "id": "EtjMEBJ-c55L",
        "colab_type": "code",
        "colab": {}
      },
      "source": [
        "wordnet_lemmatizer = WordNetLemmatizer()"
      ],
      "execution_count": 116,
      "outputs": []
    },
    {
      "cell_type": "code",
      "metadata": {
        "id": "nGNHLBxMc55N",
        "colab_type": "code",
        "colab": {}
      },
      "source": [
        "dataTraining['uno']= dataTraining['title']+dataTraining['plot']\n",
        "dataTesting['uno'] = dataTesting['title']+dataTesting['plot']\n",
        "\n",
        "data = dataTraining['uno'].append(dataTesting['uno'])\n",
        "years = dataTraining['year'].append(dataTesting['year'])"
      ],
      "execution_count": 117,
      "outputs": []
    },
    {
      "cell_type": "code",
      "metadata": {
        "id": "RZ-4RXXDc55Q",
        "colab_type": "code",
        "colab": {}
      },
      "source": [
        "wordnet_lemmatizer = WordNetLemmatizer()\n",
        "def split_into_lemmas(text):\n",
        "    text = text.lower()\n",
        "    words = text.split()\n",
        "    return [wordnet_lemmatizer.lemmatize(word, 's') for word in words]\n",
        "\n",
        "vect = TfidfVectorizer(analyzer=split_into_lemmas, min_df=2,max_features=None,sublinear_tf=True,\n",
        "                       strip_accents='unicode',ngram_range=(1,2),stop_words='english')\n",
        "\n",
        "#X_dtm = vect.fit_transform(dataTraining['uno'],dataTraining['year'])\n",
        "#X_dtm.shape\n",
        "X_dtm = vect.fit_transform(dat, years)"
      ],
      "execution_count": 118,
      "outputs": []
    },
    {
      "cell_type": "code",
      "metadata": {
        "id": "n_gjNWdVfQ4X",
        "colab_type": "code",
        "colab": {}
      },
      "source": [
        "X_dtm_test = X_dtm[dataTraining.shape[0]:,:]\n",
        "X_dtm = X_dtm[:dataTraining.shape[0],:]"
      ],
      "execution_count": 119,
      "outputs": []
    },
    {
      "cell_type": "markdown",
      "metadata": {
        "id": "tmVI8qyCc55S",
        "colab_type": "text"
      },
      "source": [
        "### Create y"
      ]
    },
    {
      "cell_type": "code",
      "metadata": {
        "id": "guDDARO-c55T",
        "colab_type": "code",
        "colab": {}
      },
      "source": [
        "dataTraining['genres'] = dataTraining['genres'].map(lambda x: eval(x))\n",
        "\n",
        "le = MultiLabelBinarizer()\n",
        "y_genres = le.fit_transform(dataTraining['genres'])"
      ],
      "execution_count": 120,
      "outputs": []
    },
    {
      "cell_type": "code",
      "metadata": {
        "id": "PXaq11dIc55V",
        "colab_type": "code",
        "colab": {}
      },
      "source": [
        "X_train, X_test, y_train_genres, y_test_genres = train_test_split(X_dtm, y_genres, test_size=0.3, random_state=666)"
      ],
      "execution_count": 121,
      "outputs": []
    },
    {
      "cell_type": "markdown",
      "metadata": {
        "id": "d3BsC3G4c55X",
        "colab_type": "text"
      },
      "source": [
        "### Train multi-class multi-label model"
      ]
    },
    {
      "cell_type": "code",
      "metadata": {
        "id": "x5lQDBV7c55X",
        "colab_type": "code",
        "colab": {}
      },
      "source": [
        "\n",
        "#clf = OneVsRestClassifier(RandomForestClassifier(n_jobs=-1,max_depth=10,n_estimators=1000, random_state=60,criterion='entropy'))"
      ],
      "execution_count": 122,
      "outputs": []
    },
    {
      "cell_type": "code",
      "metadata": {
        "id": "JsXQ8jXoc55Z",
        "colab_type": "code",
        "colab": {
          "base_uri": "https://localhost:8080/",
          "height": 34
        },
        "outputId": "830205c2-08b8-411f-c5c0-c431202fbc75"
      },
      "source": [
        "LogReg_Model = OneVsRestClassifier(LogisticRegression(multi_class='multinomial',solver='newton-cg',C=1.5,\n",
        "#                                                     warm_start=True,penalty='elasticnet',random_state=456, cv=10))\n",
        "                                                      warm_start=True, penalty='l2',random_state=999), n_jobs=-1)\n",
        "\n",
        "LogReg_Model.fit(X_train, y_train_genres)\n",
        "y_pred_genres = LogReg_Model.predict_proba(X_test)\n",
        "roc_auc_score(y_test_genres, y_pred_genres, average='macro')"
      ],
      "execution_count": 125,
      "outputs": [
        {
          "output_type": "execute_result",
          "data": {
            "text/plain": [
              "0.892996649748475"
            ]
          },
          "metadata": {
            "tags": []
          },
          "execution_count": 125
        }
      ]
    },
    {
      "cell_type": "markdown",
      "metadata": {
        "id": "Z8j6n4Ysc55f",
        "colab_type": "text"
      },
      "source": [
        "### Predict the testing dataset"
      ]
    },
    {
      "cell_type": "code",
      "metadata": {
        "id": "6O2GE4Zxc55f",
        "colab_type": "code",
        "colab": {}
      },
      "source": [
        "\n",
        "\n",
        "cols = ['p_Action', 'p_Adventure', 'p_Animation', 'p_Biography', 'p_Comedy', 'p_Crime', 'p_Documentary', 'p_Drama', 'p_Family',\n",
        "        'p_Fantasy', 'p_Film-Noir', 'p_History', 'p_Horror', 'p_Music', 'p_Musical', 'p_Mystery', 'p_News', 'p_Romance',\n",
        "        'p_Sci-Fi', 'p_Short', 'p_Sport', 'p_Thriller', 'p_War', 'p_Western']\n",
        "\n",
        "y_pred_test_genres = LogReg_Model.predict_proba(X_dtm_test)\n"
      ],
      "execution_count": 72,
      "outputs": []
    },
    {
      "cell_type": "code",
      "metadata": {
        "id": "Lhr3BvRCc55h",
        "colab_type": "code",
        "colab": {}
      },
      "source": [
        "res = pd.DataFrame(y_pred_test_genres, index=dataTesting.index, columns=cols)"
      ],
      "execution_count": 73,
      "outputs": []
    },
    {
      "cell_type": "code",
      "metadata": {
        "id": "7ogpA2l9c55i",
        "colab_type": "code",
        "colab": {
          "base_uri": "https://localhost:8080/",
          "height": 241
        },
        "outputId": "f58cd756-a96b-470e-99a6-7ee61478e136"
      },
      "source": [
        "res.head()"
      ],
      "execution_count": 74,
      "outputs": [
        {
          "output_type": "execute_result",
          "data": {
            "text/html": [
              "<div>\n",
              "<style scoped>\n",
              "    .dataframe tbody tr th:only-of-type {\n",
              "        vertical-align: middle;\n",
              "    }\n",
              "\n",
              "    .dataframe tbody tr th {\n",
              "        vertical-align: top;\n",
              "    }\n",
              "\n",
              "    .dataframe thead th {\n",
              "        text-align: right;\n",
              "    }\n",
              "</style>\n",
              "<table border=\"1\" class=\"dataframe\">\n",
              "  <thead>\n",
              "    <tr style=\"text-align: right;\">\n",
              "      <th></th>\n",
              "      <th>p_Action</th>\n",
              "      <th>p_Adventure</th>\n",
              "      <th>p_Animation</th>\n",
              "      <th>p_Biography</th>\n",
              "      <th>p_Comedy</th>\n",
              "      <th>p_Crime</th>\n",
              "      <th>p_Documentary</th>\n",
              "      <th>p_Drama</th>\n",
              "      <th>p_Family</th>\n",
              "      <th>p_Fantasy</th>\n",
              "      <th>p_Film-Noir</th>\n",
              "      <th>p_History</th>\n",
              "      <th>p_Horror</th>\n",
              "      <th>p_Music</th>\n",
              "      <th>p_Musical</th>\n",
              "      <th>p_Mystery</th>\n",
              "      <th>p_News</th>\n",
              "      <th>p_Romance</th>\n",
              "      <th>p_Sci-Fi</th>\n",
              "      <th>p_Short</th>\n",
              "      <th>p_Sport</th>\n",
              "      <th>p_Thriller</th>\n",
              "      <th>p_War</th>\n",
              "      <th>p_Western</th>\n",
              "    </tr>\n",
              "  </thead>\n",
              "  <tbody>\n",
              "    <tr>\n",
              "      <th>1</th>\n",
              "      <td>0.101146</td>\n",
              "      <td>0.052219</td>\n",
              "      <td>0.018949</td>\n",
              "      <td>0.019606</td>\n",
              "      <td>0.335807</td>\n",
              "      <td>0.097615</td>\n",
              "      <td>0.011056</td>\n",
              "      <td>0.429440</td>\n",
              "      <td>0.032998</td>\n",
              "      <td>0.087134</td>\n",
              "      <td>0.017254</td>\n",
              "      <td>0.013329</td>\n",
              "      <td>0.065235</td>\n",
              "      <td>0.024723</td>\n",
              "      <td>0.030825</td>\n",
              "      <td>0.089718</td>\n",
              "      <td>0.000892</td>\n",
              "      <td>0.623165</td>\n",
              "      <td>0.030021</td>\n",
              "      <td>0.008591</td>\n",
              "      <td>0.014258</td>\n",
              "      <td>0.179302</td>\n",
              "      <td>0.014223</td>\n",
              "      <td>0.017395</td>\n",
              "    </tr>\n",
              "    <tr>\n",
              "      <th>4</th>\n",
              "      <td>0.111170</td>\n",
              "      <td>0.024148</td>\n",
              "      <td>0.024704</td>\n",
              "      <td>0.101792</td>\n",
              "      <td>0.280955</td>\n",
              "      <td>0.454654</td>\n",
              "      <td>0.032863</td>\n",
              "      <td>0.767957</td>\n",
              "      <td>0.040068</td>\n",
              "      <td>0.028899</td>\n",
              "      <td>0.011924</td>\n",
              "      <td>0.019897</td>\n",
              "      <td>0.064061</td>\n",
              "      <td>0.022788</td>\n",
              "      <td>0.019233</td>\n",
              "      <td>0.057342</td>\n",
              "      <td>0.001192</td>\n",
              "      <td>0.078811</td>\n",
              "      <td>0.018769</td>\n",
              "      <td>0.009760</td>\n",
              "      <td>0.020952</td>\n",
              "      <td>0.257412</td>\n",
              "      <td>0.029807</td>\n",
              "      <td>0.013684</td>\n",
              "    </tr>\n",
              "    <tr>\n",
              "      <th>5</th>\n",
              "      <td>0.063218</td>\n",
              "      <td>0.020198</td>\n",
              "      <td>0.006814</td>\n",
              "      <td>0.035531</td>\n",
              "      <td>0.103432</td>\n",
              "      <td>0.601081</td>\n",
              "      <td>0.012757</td>\n",
              "      <td>0.709453</td>\n",
              "      <td>0.013075</td>\n",
              "      <td>0.022921</td>\n",
              "      <td>0.060887</td>\n",
              "      <td>0.015168</td>\n",
              "      <td>0.047404</td>\n",
              "      <td>0.015353</td>\n",
              "      <td>0.018097</td>\n",
              "      <td>0.282213</td>\n",
              "      <td>0.000857</td>\n",
              "      <td>0.178762</td>\n",
              "      <td>0.028264</td>\n",
              "      <td>0.004595</td>\n",
              "      <td>0.020072</td>\n",
              "      <td>0.543169</td>\n",
              "      <td>0.018977</td>\n",
              "      <td>0.012721</td>\n",
              "    </tr>\n",
              "    <tr>\n",
              "      <th>6</th>\n",
              "      <td>0.128107</td>\n",
              "      <td>0.076501</td>\n",
              "      <td>0.009651</td>\n",
              "      <td>0.064344</td>\n",
              "      <td>0.166832</td>\n",
              "      <td>0.051222</td>\n",
              "      <td>0.010138</td>\n",
              "      <td>0.799170</td>\n",
              "      <td>0.030315</td>\n",
              "      <td>0.044062</td>\n",
              "      <td>0.027189</td>\n",
              "      <td>0.041367</td>\n",
              "      <td>0.094759</td>\n",
              "      <td>0.010138</td>\n",
              "      <td>0.016957</td>\n",
              "      <td>0.103032</td>\n",
              "      <td>0.000902</td>\n",
              "      <td>0.193123</td>\n",
              "      <td>0.136207</td>\n",
              "      <td>0.005871</td>\n",
              "      <td>0.025548</td>\n",
              "      <td>0.439140</td>\n",
              "      <td>0.071721</td>\n",
              "      <td>0.019029</td>\n",
              "    </tr>\n",
              "    <tr>\n",
              "      <th>7</th>\n",
              "      <td>0.031878</td>\n",
              "      <td>0.049184</td>\n",
              "      <td>0.022719</td>\n",
              "      <td>0.031619</td>\n",
              "      <td>0.193681</td>\n",
              "      <td>0.094783</td>\n",
              "      <td>0.017515</td>\n",
              "      <td>0.465777</td>\n",
              "      <td>0.041179</td>\n",
              "      <td>0.125501</td>\n",
              "      <td>0.036879</td>\n",
              "      <td>0.014400</td>\n",
              "      <td>0.520261</td>\n",
              "      <td>0.019135</td>\n",
              "      <td>0.024395</td>\n",
              "      <td>0.082721</td>\n",
              "      <td>0.000837</td>\n",
              "      <td>0.109624</td>\n",
              "      <td>0.272559</td>\n",
              "      <td>0.008709</td>\n",
              "      <td>0.008197</td>\n",
              "      <td>0.364447</td>\n",
              "      <td>0.013003</td>\n",
              "      <td>0.013418</td>\n",
              "    </tr>\n",
              "  </tbody>\n",
              "</table>\n",
              "</div>"
            ],
            "text/plain": [
              "   p_Action  p_Adventure  p_Animation  ...  p_Thriller     p_War  p_Western\n",
              "1  0.101146     0.052219     0.018949  ...    0.179302  0.014223   0.017395\n",
              "4  0.111170     0.024148     0.024704  ...    0.257412  0.029807   0.013684\n",
              "5  0.063218     0.020198     0.006814  ...    0.543169  0.018977   0.012721\n",
              "6  0.128107     0.076501     0.009651  ...    0.439140  0.071721   0.019029\n",
              "7  0.031878     0.049184     0.022719  ...    0.364447  0.013003   0.013418\n",
              "\n",
              "[5 rows x 24 columns]"
            ]
          },
          "metadata": {
            "tags": []
          },
          "execution_count": 74
        }
      ]
    },
    {
      "cell_type": "code",
      "metadata": {
        "id": "wMtoQvrmc55l",
        "colab_type": "code",
        "colab": {}
      },
      "source": [
        "res.to_csv('TFDF_LR.csv', index_label='ID')"
      ],
      "execution_count": 75,
      "outputs": []
    }
  ]
}