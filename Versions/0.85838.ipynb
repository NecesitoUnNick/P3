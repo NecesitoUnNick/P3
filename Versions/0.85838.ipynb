{
 "cells": [
  {
   "cell_type": "markdown",
   "metadata": {},
   "source": [
    "# Project 3\n",
    "\n",
    "\n",
    "# Movie Genre Classification\n",
    "\n",
    "Classify a movie genre based on its plot.\n",
    "\n",
    "<img src=\"moviegenre.png\"\n",
    "     style=\"float: left; margin-right: 10px;\" />\n",
    "\n",
    "\n",
    "\n",
    "\n",
    "https://www.kaggle.com/c/miia4201-202019-p3-moviegenreclassification/overview\n",
    "\n",
    "### Data\n",
    "\n",
    "Input:\n",
    "- movie plot\n",
    "\n",
    "Output:\n",
    "Probability of the movie belong to each genre\n",
    "\n",
    "\n",
    "### Evaluation\n",
    "\n",
    "- 20% API\n",
    "- 30% Report with all the details of the solution, the analysis and the conclusions. The report cannot exceed 10 pages, must be send in PDF format and must be self-contained.\n",
    "- 50% Performance in the Kaggle competition (The grade for each group will be proportional to the ranking it occupies in the competition. The group in the first place will obtain 5 points, for each position below, 0.25 points will be subtracted, that is: first place: 5 points, second: 4.75 points, third place: 4.50 points ... eleventh place: 2.50 points, twelfth place: 2.25 points).\n",
    "\n",
    "• The project must be carried out in the groups assigned for module 4.\n",
    "• Use clear and rigorous procedures.\n",
    "• The delivery of the project is on July 12, 2020, 11:59 pm, through Sicua + (Upload: the API and the report in PDF format).\n",
    "• No projects will be received after the delivery time or by any other means than the one established. \n",
    "\n",
    "\n",
    "\n",
    "\n",
    "### Acknowledgements\n",
    "\n",
    "We thank Professor Fabio Gonzalez, Ph.D. and his student John Arevalo for providing this dataset.\n",
    "\n",
    "See https://arxiv.org/abs/1702.01992"
   ]
  },
  {
   "cell_type": "markdown",
   "metadata": {},
   "source": [
    "## Sample Submission"
   ]
  },
  {
   "cell_type": "code",
   "execution_count": 22,
   "metadata": {},
   "outputs": [],
   "source": [
    "import pandas as pd\n",
    "import numpy as np\n",
    "from sklearn.feature_extraction.text import CountVectorizer\n",
    "from sklearn.preprocessing import MultiLabelBinarizer\n",
    "from sklearn.multiclass import OneVsRestClassifier\n",
    "from sklearn.ensemble import RandomForestRegressor, RandomForestClassifier,  ExtraTreesClassifier\n",
    "from sklearn.metrics import r2_score, roc_auc_score, accuracy_score, make_scorer\n",
    "from sklearn.model_selection import GridSearchCV\n",
    "from sklearn.model_selection import train_test_split\n",
    "from sklearn.linear_model import LogisticRegressionCV"
   ]
  },
  {
   "cell_type": "code",
   "execution_count": 23,
   "metadata": {},
   "outputs": [],
   "source": [
    "dataTraining = pd.read_csv('datasets/dataTraining.csv', encoding='UTF-8', index_col=0)\n",
    "dataTesting = pd.read_csv('datasets/dataTesting.csv', encoding='UTF-8', index_col=0)"
   ]
  },
  {
   "cell_type": "code",
   "execution_count": 24,
   "metadata": {},
   "outputs": [
    {
     "output_type": "execute_result",
     "data": {
      "text/plain": "      year                      title  \\\n3107  2003                       Most   \n900   2008  How to Be a Serial Killer   \n6724  1941             A Woman's Face   \n4704  1954            Executive Suite   \n2582  1990              Narrow Margin   \n\n                                                   plot  \\\n3107  most is the story of a single father who takes...   \n900   a serial killer decides to teach the secrets o...   \n6724  in sweden ,  a female blackmailer with a disfi...   \n4704  in a friday afternoon in new york ,  the presi...   \n2582  in los angeles ,  the editor of a publishing h...   \n\n                                  genres  rating  \n3107                  ['Short', 'Drama']     8.0  \n900        ['Comedy', 'Crime', 'Horror']     5.6  \n6724  ['Drama', 'Film-Noir', 'Thriller']     7.2  \n4704                           ['Drama']     7.4  \n2582     ['Action', 'Crime', 'Thriller']     6.6  ",
      "text/html": "<div>\n<style scoped>\n    .dataframe tbody tr th:only-of-type {\n        vertical-align: middle;\n    }\n\n    .dataframe tbody tr th {\n        vertical-align: top;\n    }\n\n    .dataframe thead th {\n        text-align: right;\n    }\n</style>\n<table border=\"1\" class=\"dataframe\">\n  <thead>\n    <tr style=\"text-align: right;\">\n      <th></th>\n      <th>year</th>\n      <th>title</th>\n      <th>plot</th>\n      <th>genres</th>\n      <th>rating</th>\n    </tr>\n  </thead>\n  <tbody>\n    <tr>\n      <th>3107</th>\n      <td>2003</td>\n      <td>Most</td>\n      <td>most is the story of a single father who takes...</td>\n      <td>['Short', 'Drama']</td>\n      <td>8.0</td>\n    </tr>\n    <tr>\n      <th>900</th>\n      <td>2008</td>\n      <td>How to Be a Serial Killer</td>\n      <td>a serial killer decides to teach the secrets o...</td>\n      <td>['Comedy', 'Crime', 'Horror']</td>\n      <td>5.6</td>\n    </tr>\n    <tr>\n      <th>6724</th>\n      <td>1941</td>\n      <td>A Woman's Face</td>\n      <td>in sweden ,  a female blackmailer with a disfi...</td>\n      <td>['Drama', 'Film-Noir', 'Thriller']</td>\n      <td>7.2</td>\n    </tr>\n    <tr>\n      <th>4704</th>\n      <td>1954</td>\n      <td>Executive Suite</td>\n      <td>in a friday afternoon in new york ,  the presi...</td>\n      <td>['Drama']</td>\n      <td>7.4</td>\n    </tr>\n    <tr>\n      <th>2582</th>\n      <td>1990</td>\n      <td>Narrow Margin</td>\n      <td>in los angeles ,  the editor of a publishing h...</td>\n      <td>['Action', 'Crime', 'Thriller']</td>\n      <td>6.6</td>\n    </tr>\n  </tbody>\n</table>\n</div>"
     },
     "metadata": {},
     "execution_count": 24
    }
   ],
   "source": [
    "dataTraining.head()"
   ]
  },
  {
   "cell_type": "code",
   "execution_count": 25,
   "metadata": {},
   "outputs": [
    {
     "output_type": "execute_result",
     "data": {
      "text/plain": "   year                title  \\\n1  1999  Message in a Bottle   \n4  1978     Midnight Express   \n5  1996          Primal Fear   \n6  1950               Crisis   \n7  1959          The Tingler   \n\n                                                plot  \n1  who meets by fate ,  shall be sealed by fate ....  \n4  the true story of billy hayes ,  an american c...  \n5  martin vail left the chicago da ' s office to ...  \n6  husband and wife americans dr .  eugene and mr...  \n7  the coroner and scientist dr .  warren chapin ...  ",
      "text/html": "<div>\n<style scoped>\n    .dataframe tbody tr th:only-of-type {\n        vertical-align: middle;\n    }\n\n    .dataframe tbody tr th {\n        vertical-align: top;\n    }\n\n    .dataframe thead th {\n        text-align: right;\n    }\n</style>\n<table border=\"1\" class=\"dataframe\">\n  <thead>\n    <tr style=\"text-align: right;\">\n      <th></th>\n      <th>year</th>\n      <th>title</th>\n      <th>plot</th>\n    </tr>\n  </thead>\n  <tbody>\n    <tr>\n      <th>1</th>\n      <td>1999</td>\n      <td>Message in a Bottle</td>\n      <td>who meets by fate ,  shall be sealed by fate ....</td>\n    </tr>\n    <tr>\n      <th>4</th>\n      <td>1978</td>\n      <td>Midnight Express</td>\n      <td>the true story of billy hayes ,  an american c...</td>\n    </tr>\n    <tr>\n      <th>5</th>\n      <td>1996</td>\n      <td>Primal Fear</td>\n      <td>martin vail left the chicago da ' s office to ...</td>\n    </tr>\n    <tr>\n      <th>6</th>\n      <td>1950</td>\n      <td>Crisis</td>\n      <td>husband and wife americans dr .  eugene and mr...</td>\n    </tr>\n    <tr>\n      <th>7</th>\n      <td>1959</td>\n      <td>The Tingler</td>\n      <td>the coroner and scientist dr .  warren chapin ...</td>\n    </tr>\n  </tbody>\n</table>\n</div>"
     },
     "metadata": {},
     "execution_count": 25
    }
   ],
   "source": [
    "dataTesting.head()"
   ]
  },
  {
   "cell_type": "markdown",
   "metadata": {},
   "source": [
    "### Create count vectorizer"
   ]
  },
  {
   "cell_type": "code",
   "execution_count": 26,
   "metadata": {},
   "outputs": [],
   "source": [
    "from nltk.stem import WordNetLemmatizer\n",
    "import nltk\n",
    "wordnet_lemmatizer = WordNetLemmatizer()"
   ]
  },
  {
   "cell_type": "code",
   "execution_count": 27,
   "metadata": {},
   "outputs": [],
   "source": [
    "def split_into_lemmas(text):\n",
    "    text = text.lower()\n",
    "    words = text.split()\n",
    "    return [wordnet_lemmatizer.lemmatize(word) for word in words]"
   ]
  },
  {
   "cell_type": "code",
   "execution_count": 28,
   "metadata": {
    "tags": []
   },
   "outputs": [],
   "source": [
    "#vect = CountVectorizer(lowercase=True, stop_words='english', max_features=5000)\n",
    "vect = CountVectorizer(lowercase=True, stop_words='english', analyzer=split_into_lemmas, max_features=38000)\n",
    "X_dtm = vect.fit_transform(dataTraining['plot'])"
   ]
  },
  {
   "cell_type": "code",
   "execution_count": 29,
   "metadata": {
    "tags": []
   },
   "outputs": [
    {
     "output_type": "execute_result",
     "data": {
      "text/plain": "(7895, 34629)"
     },
     "metadata": {},
     "execution_count": 29
    }
   ],
   "source": [
    "X_dtm.shape"
   ]
  },
  {
   "cell_type": "markdown",
   "metadata": {},
   "source": [
    "### Create y"
   ]
  },
  {
   "cell_type": "code",
   "execution_count": 30,
   "metadata": {},
   "outputs": [],
   "source": [
    "dataTraining['genres'] = dataTraining['genres'].map(lambda x: eval(x))\n",
    "le = MultiLabelBinarizer()\n",
    "y_genres = le.fit_transform(dataTraining['genres'])"
   ]
  },
  {
   "cell_type": "code",
   "execution_count": 31,
   "metadata": {},
   "outputs": [
    {
     "output_type": "execute_result",
     "data": {
      "text/plain": "array([[0, 0, 0, ..., 0, 0, 0],\n       [0, 0, 0, ..., 0, 0, 0],\n       [0, 0, 0, ..., 1, 0, 0],\n       ...,\n       [0, 1, 0, ..., 0, 0, 0],\n       [0, 1, 1, ..., 0, 0, 0],\n       [0, 1, 1, ..., 0, 0, 0]])"
     },
     "metadata": {},
     "execution_count": 31
    }
   ],
   "source": [
    "y_genres"
   ]
  },
  {
   "cell_type": "code",
   "execution_count": 32,
   "metadata": {},
   "outputs": [],
   "source": [
    "X_train, X_test, y_train_genres, y_test_genres = train_test_split(X_dtm, y_genres, train_size=0.7, random_state=123)"
   ]
  },
  {
   "cell_type": "markdown",
   "metadata": {},
   "source": [
    "### Train multi-class multi-label model"
   ]
  },
  {
   "cell_type": "code",
   "execution_count": 33,
   "metadata": {},
   "outputs": [],
   "source": [
    "mdl =  OneVsRestClassifier(LogisticRegressionCV(Cs=1.5,cv=20,max_iter=100,n_jobs=-1))"
   ]
  },
  {
   "cell_type": "code",
   "execution_count": 34,
   "metadata": {},
   "outputs": [
    {
     "output_type": "execute_result",
     "data": {
      "text/plain": "OneVsRestClassifier(estimator=LogisticRegressionCV(Cs=100, class_weight=None,\n                                                   cv=20, dual=False,\n                                                   fit_intercept=True,\n                                                   intercept_scaling=1.0,\n                                                   l1_ratios=None, max_iter=100,\n                                                   multi_class='auto',\n                                                   n_jobs=-1, penalty='l2',\n                                                   random_state=None,\n                                                   refit=True, scoring=None,\n                                                   solver='lbfgs', tol=0.0001,\n                                                   verbose=0),\n                    n_jobs=None)"
     },
     "metadata": {},
     "execution_count": 34
    }
   ],
   "source": [
    "mdl.fit(X_dtm, y_genres)"
   ]
  },
  {
   "cell_type": "code",
   "execution_count": 35,
   "metadata": {},
   "outputs": [],
   "source": [
    "y_pred_genres = mdl.predict_proba(X_test)"
   ]
  },
  {
   "cell_type": "code",
   "execution_count": 36,
   "metadata": {},
   "outputs": [
    {
     "output_type": "execute_result",
     "data": {
      "text/plain": "0.9739978039571927"
     },
     "metadata": {},
     "execution_count": 36
    }
   ],
   "source": [
    "roc_auc_score(y_test_genres, y_pred_genres, average='macro')"
   ]
  },
  {
   "cell_type": "markdown",
   "metadata": {},
   "source": [
    "### Predict the testing dataset"
   ]
  },
  {
   "cell_type": "code",
   "execution_count": 37,
   "metadata": {},
   "outputs": [],
   "source": [
    "X_test_dtm = vect.transform(dataTesting['plot'])\n",
    "\n",
    "cols = ['p_Action', 'p_Adventure', 'p_Animation', 'p_Biography', 'p_Comedy', 'p_Crime', 'p_Documentary', 'p_Drama', 'p_Family',\n",
    "        'p_Fantasy', 'p_Film-Noir', 'p_History', 'p_Horror', 'p_Music', 'p_Musical', 'p_Mystery', 'p_News', 'p_Romance',\n",
    "        'p_Sci-Fi', 'p_Short', 'p_Sport', 'p_Thriller', 'p_War', 'p_Western']\n",
    "\n",
    "y_pred_test_genres = mdl.predict_proba(X_test_dtm)\n"
   ]
  },
  {
   "cell_type": "code",
   "execution_count": 38,
   "metadata": {},
   "outputs": [],
   "source": [
    "res = pd.DataFrame(y_pred_test_genres, index=dataTesting.index, columns=cols)"
   ]
  },
  {
   "cell_type": "code",
   "execution_count": 39,
   "metadata": {},
   "outputs": [
    {
     "output_type": "execute_result",
     "data": {
      "text/plain": "   p_Action  p_Adventure   p_Animation  p_Biography  p_Comedy   p_Crime  \\\n1  0.103718     0.079395  5.881427e-03     0.046429  0.420226  0.045576   \n4  0.127585     0.043380  1.830063e-02     0.059152  0.303661  0.246472   \n5  0.000235     0.000084  3.497974e-07     0.035845  0.003008  0.998462   \n6  0.029667     0.018166  4.322753e-05     0.039260  0.081120  0.001279   \n7  0.001017     0.001646  1.633660e-04     0.042559  0.095410  0.001508   \n\n   p_Documentary   p_Drama      p_Family  p_Fantasy  ...  p_Musical  \\\n1   1.367812e-09  0.450020  1.104878e-03   0.095206  ...   0.062852   \n4   5.915488e-03  0.693381  6.772167e-03   0.022588  ...   0.029935   \n5   4.624273e-14  0.900852  4.867364e-10   0.000304  ...   0.001669   \n6   2.627447e-10  0.884703  1.140289e-04   0.006066  ...   0.003714   \n7   1.789657e-10  0.138474  8.640139e-06   0.070976  ...   0.000912   \n\n   p_Mystery    p_News  p_Romance  p_Sci-Fi       p_Short       p_Sport  \\\n1   0.060170  0.000908   0.843357  0.006027  1.102464e-06  2.412428e-06   \n4   0.068263  0.000942   0.085293  0.006128  3.084874e-04  1.008019e-04   \n5   0.932295  0.000769   0.009579  0.000013  5.542841e-11  4.086982e-08   \n6   0.033929  0.000851   0.036952  0.043189  2.602558e-07  6.494392e-06   \n7   0.072604  0.000844   0.074897  0.982324  2.609939e-06  5.855730e-13   \n\n   p_Thriller         p_War     p_Western  \n1    0.067140  3.020208e-04  3.719033e-04  \n4    0.261454  9.860388e-03  7.622277e-04  \n5    0.738879  9.713536e-07  9.355901e-09  \n6    0.212318  8.735165e-04  1.369602e-03  \n7    0.353328  5.202543e-08  1.038345e-06  \n\n[5 rows x 24 columns]",
      "text/html": "<div>\n<style scoped>\n    .dataframe tbody tr th:only-of-type {\n        vertical-align: middle;\n    }\n\n    .dataframe tbody tr th {\n        vertical-align: top;\n    }\n\n    .dataframe thead th {\n        text-align: right;\n    }\n</style>\n<table border=\"1\" class=\"dataframe\">\n  <thead>\n    <tr style=\"text-align: right;\">\n      <th></th>\n      <th>p_Action</th>\n      <th>p_Adventure</th>\n      <th>p_Animation</th>\n      <th>p_Biography</th>\n      <th>p_Comedy</th>\n      <th>p_Crime</th>\n      <th>p_Documentary</th>\n      <th>p_Drama</th>\n      <th>p_Family</th>\n      <th>p_Fantasy</th>\n      <th>...</th>\n      <th>p_Musical</th>\n      <th>p_Mystery</th>\n      <th>p_News</th>\n      <th>p_Romance</th>\n      <th>p_Sci-Fi</th>\n      <th>p_Short</th>\n      <th>p_Sport</th>\n      <th>p_Thriller</th>\n      <th>p_War</th>\n      <th>p_Western</th>\n    </tr>\n  </thead>\n  <tbody>\n    <tr>\n      <th>1</th>\n      <td>0.103718</td>\n      <td>0.079395</td>\n      <td>5.881427e-03</td>\n      <td>0.046429</td>\n      <td>0.420226</td>\n      <td>0.045576</td>\n      <td>1.367812e-09</td>\n      <td>0.450020</td>\n      <td>1.104878e-03</td>\n      <td>0.095206</td>\n      <td>...</td>\n      <td>0.062852</td>\n      <td>0.060170</td>\n      <td>0.000908</td>\n      <td>0.843357</td>\n      <td>0.006027</td>\n      <td>1.102464e-06</td>\n      <td>2.412428e-06</td>\n      <td>0.067140</td>\n      <td>3.020208e-04</td>\n      <td>3.719033e-04</td>\n    </tr>\n    <tr>\n      <th>4</th>\n      <td>0.127585</td>\n      <td>0.043380</td>\n      <td>1.830063e-02</td>\n      <td>0.059152</td>\n      <td>0.303661</td>\n      <td>0.246472</td>\n      <td>5.915488e-03</td>\n      <td>0.693381</td>\n      <td>6.772167e-03</td>\n      <td>0.022588</td>\n      <td>...</td>\n      <td>0.029935</td>\n      <td>0.068263</td>\n      <td>0.000942</td>\n      <td>0.085293</td>\n      <td>0.006128</td>\n      <td>3.084874e-04</td>\n      <td>1.008019e-04</td>\n      <td>0.261454</td>\n      <td>9.860388e-03</td>\n      <td>7.622277e-04</td>\n    </tr>\n    <tr>\n      <th>5</th>\n      <td>0.000235</td>\n      <td>0.000084</td>\n      <td>3.497974e-07</td>\n      <td>0.035845</td>\n      <td>0.003008</td>\n      <td>0.998462</td>\n      <td>4.624273e-14</td>\n      <td>0.900852</td>\n      <td>4.867364e-10</td>\n      <td>0.000304</td>\n      <td>...</td>\n      <td>0.001669</td>\n      <td>0.932295</td>\n      <td>0.000769</td>\n      <td>0.009579</td>\n      <td>0.000013</td>\n      <td>5.542841e-11</td>\n      <td>4.086982e-08</td>\n      <td>0.738879</td>\n      <td>9.713536e-07</td>\n      <td>9.355901e-09</td>\n    </tr>\n    <tr>\n      <th>6</th>\n      <td>0.029667</td>\n      <td>0.018166</td>\n      <td>4.322753e-05</td>\n      <td>0.039260</td>\n      <td>0.081120</td>\n      <td>0.001279</td>\n      <td>2.627447e-10</td>\n      <td>0.884703</td>\n      <td>1.140289e-04</td>\n      <td>0.006066</td>\n      <td>...</td>\n      <td>0.003714</td>\n      <td>0.033929</td>\n      <td>0.000851</td>\n      <td>0.036952</td>\n      <td>0.043189</td>\n      <td>2.602558e-07</td>\n      <td>6.494392e-06</td>\n      <td>0.212318</td>\n      <td>8.735165e-04</td>\n      <td>1.369602e-03</td>\n    </tr>\n    <tr>\n      <th>7</th>\n      <td>0.001017</td>\n      <td>0.001646</td>\n      <td>1.633660e-04</td>\n      <td>0.042559</td>\n      <td>0.095410</td>\n      <td>0.001508</td>\n      <td>1.789657e-10</td>\n      <td>0.138474</td>\n      <td>8.640139e-06</td>\n      <td>0.070976</td>\n      <td>...</td>\n      <td>0.000912</td>\n      <td>0.072604</td>\n      <td>0.000844</td>\n      <td>0.074897</td>\n      <td>0.982324</td>\n      <td>2.609939e-06</td>\n      <td>5.855730e-13</td>\n      <td>0.353328</td>\n      <td>5.202543e-08</td>\n      <td>1.038345e-06</td>\n    </tr>\n  </tbody>\n</table>\n<p>5 rows × 24 columns</p>\n</div>"
     },
     "metadata": {},
     "execution_count": 39
    }
   ],
   "source": [
    "res.head()"
   ]
  },
  {
   "cell_type": "code",
   "execution_count": 40,
   "metadata": {},
   "outputs": [],
   "source": [
    "res.to_csv('logit3.csv', index_label='ID')"
   ]
  },
  {
   "cell_type": "code",
   "execution_count": 41,
   "metadata": {},
   "outputs": [],
   "source": []
  }
 ],
 "metadata": {
  "kernelspec": {
   "display_name": "Python 3",
   "language": "python",
   "name": "python3"
  },
  "language_info": {
   "codemirror_mode": {
    "name": "ipython",
    "version": 3
   },
   "file_extension": ".py",
   "mimetype": "text/x-python",
   "name": "python",
   "nbconvert_exporter": "python",
   "pygments_lexer": "ipython3",
   "version": "3.7.6-final"
  }
 },
 "nbformat": 4,
 "nbformat_minor": 4
}