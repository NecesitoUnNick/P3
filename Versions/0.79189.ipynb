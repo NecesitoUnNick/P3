{
  "nbformat": 4,
  "nbformat_minor": 0,
  "metadata": {
    "kernelspec": {
      "display_name": "Python 3",
      "language": "python",
      "name": "python3"
    },
    "language_info": {
      "codemirror_mode": {
        "name": "ipython",
        "version": 3
      },
      "file_extension": ".py",
      "mimetype": "text/x-python",
      "name": "python",
      "nbconvert_exporter": "python",
      "pygments_lexer": "ipython3",
      "version": "3.7.6-final"
    },
    "colab": {
      "name": "0.799633.ipynb",
      "provenance": [],
      "collapsed_sections": [],
      "machine_shape": "hm"
    },
    "accelerator": "GPU"
  },
  "cells": [
    {
      "cell_type": "markdown",
      "metadata": {
        "id": "fW9KLFRAF8wD",
        "colab_type": "text"
      },
      "source": [
        "# Project 3\n",
        "\n",
        "\n",
        "# Movie Genre Classification\n",
        "\n",
        "Classify a movie genre based on its plot.\n",
        "\n",
        "<img src=\"moviegenre.png\"\n",
        "     style=\"float: left; margin-right: 10px;\" />\n",
        "\n",
        "\n",
        "\n",
        "\n",
        "https://www.kaggle.com/c/miia4201-202019-p3-moviegenreclassification/overview\n",
        "\n",
        "### Data\n",
        "\n",
        "Input:\n",
        "- movie plot\n",
        "\n",
        "Output:\n",
        "Probability of the movie belong to each genre\n",
        "\n",
        "\n",
        "### Evaluation\n",
        "\n",
        "- 20% API\n",
        "- 30% Report with all the details of the solution, the analysis and the conclusions. The report cannot exceed 10 pages, must be send in PDF format and must be self-contained.\n",
        "- 50% Performance in the Kaggle competition (The grade for each group will be proportional to the ranking it occupies in the competition. The group in the first place will obtain 5 points, for each position below, 0.25 points will be subtracted, that is: first place: 5 points, second: 4.75 points, third place: 4.50 points ... eleventh place: 2.50 points, twelfth place: 2.25 points).\n",
        "\n",
        "• The project must be carried out in the groups assigned for module 4.\n",
        "• Use clear and rigorous procedures.\n",
        "• The delivery of the project is on July 12, 2020, 11:59 pm, through Sicua + (Upload: the API and the report in PDF format).\n",
        "• No projects will be received after the delivery time or by any other means than the one established. \n",
        "\n",
        "\n",
        "\n",
        "\n",
        "### Acknowledgements\n",
        "\n",
        "We thank Professor Fabio Gonzalez, Ph.D. and his student John Arevalo for providing this dataset.\n",
        "\n",
        "See https://arxiv.org/abs/1702.01992"
      ]
    },
    {
      "cell_type": "markdown",
      "metadata": {
        "id": "GQ83xNqJF8wE",
        "colab_type": "text"
      },
      "source": [
        "## Configuraciones Iniciales"
      ]
    },
    {
      "cell_type": "code",
      "metadata": {
        "tags": [],
        "id": "ZD-7nVFNF8wE",
        "colab_type": "code",
        "colab": {
          "base_uri": "https://localhost:8080/",
          "height": 119
        },
        "outputId": "c709e7fb-d444-4d06-f485-ffcee30e35fd"
      },
      "source": [
        "import pandas as pd\n",
        "import numpy as np\n",
        "import nltk\n",
        "import string\n",
        "import re\n",
        "from time import time\n",
        "from nltk.corpus import stopwords, wordnet\n",
        "from nltk import word_tokenize\n",
        "from nltk.stem import WordNetLemmatizer\n",
        "nltk.download('wordnet')\n",
        "nltk.download('averaged_perceptron_tagger')\n",
        "from sklearn.feature_extraction.text import CountVectorizer, TfidfVectorizer\n",
        "from sklearn.preprocessing import MultiLabelBinarizer, MinMaxScaler\n",
        "from sklearn.multiclass import OneVsRestClassifier\n",
        "from sklearn.ensemble import RandomForestRegressor, RandomForestClassifier,  ExtraTreesClassifier\n",
        "from sklearn.metrics import r2_score, roc_auc_score, accuracy_score, make_scorer, roc_auc_score\n",
        "from sklearn.model_selection import GridSearchCV,train_test_split, cross_val_score\n",
        "from sklearn.linear_model import LogisticRegressionCV\n",
        "import tensorflow as tf\n",
        "tf.device(\"gpu:0\")\n",
        "import keras\n",
        "from keras import backend as K\n",
        "from keras import regularizers\n",
        "from keras.models import Sequential\n",
        "from keras.layers.recurrent import LSTM\n",
        "from keras.layers.core import Dense, Dropout, Flatten, SpatialDropout1D\n",
        "from keras.layers.embeddings import Embedding\n",
        "from keras.preprocessing.text import Tokenizer\n",
        "from keras.preprocessing import sequence\n",
        "from keras.utils import np_utils\n",
        "from keras.callbacks import Callback, EarlyStopping, TensorBoard, ModelCheckpoint, LearningRateScheduler\n",
        "from livelossplot import PlotLossesKeras"
      ],
      "execution_count": 8,
      "outputs": [
        {
          "output_type": "stream",
          "text": [
            "[nltk_data] Downloading package wordnet to /root/nltk_data...\n",
            "[nltk_data]   Package wordnet is already up-to-date!\n",
            "[nltk_data] Downloading package averaged_perceptron_tagger to\n",
            "[nltk_data]     /root/nltk_data...\n",
            "[nltk_data]   Package averaged_perceptron_tagger is already up-to-\n",
            "[nltk_data]       date!\n"
          ],
          "name": "stdout"
        }
      ]
    },
    {
      "cell_type": "code",
      "metadata": {
        "id": "slJAvBBwF8wH",
        "colab_type": "code",
        "colab": {}
      },
      "source": [
        "dataTraining = pd.read_csv('https://github.com/albahnsen/AdvancedMethodsDataAnalysisClass/raw/master/datasets/dataTraining.zip', encoding='UTF-8', index_col=0)\n",
        "dataTesting = pd.read_csv('https://github.com/albahnsen/AdvancedMethodsDataAnalysisClass/raw/master/datasets/dataTesting.zip', encoding='UTF-8', index_col=0)"
      ],
      "execution_count": 9,
      "outputs": []
    },
    {
      "cell_type": "code",
      "metadata": {
        "id": "rgkpAxDSF8wJ",
        "colab_type": "code",
        "colab": {
          "base_uri": "https://localhost:8080/",
          "height": 204
        },
        "outputId": "03549132-e78a-4e25-c417-8fb6c4fe834e"
      },
      "source": [
        "dataTraining.head()"
      ],
      "execution_count": 10,
      "outputs": [
        {
          "output_type": "execute_result",
          "data": {
            "text/html": [
              "<div>\n",
              "<style scoped>\n",
              "    .dataframe tbody tr th:only-of-type {\n",
              "        vertical-align: middle;\n",
              "    }\n",
              "\n",
              "    .dataframe tbody tr th {\n",
              "        vertical-align: top;\n",
              "    }\n",
              "\n",
              "    .dataframe thead th {\n",
              "        text-align: right;\n",
              "    }\n",
              "</style>\n",
              "<table border=\"1\" class=\"dataframe\">\n",
              "  <thead>\n",
              "    <tr style=\"text-align: right;\">\n",
              "      <th></th>\n",
              "      <th>year</th>\n",
              "      <th>title</th>\n",
              "      <th>plot</th>\n",
              "      <th>genres</th>\n",
              "      <th>rating</th>\n",
              "    </tr>\n",
              "  </thead>\n",
              "  <tbody>\n",
              "    <tr>\n",
              "      <th>3107</th>\n",
              "      <td>2003</td>\n",
              "      <td>Most</td>\n",
              "      <td>most is the story of a single father who takes...</td>\n",
              "      <td>['Short', 'Drama']</td>\n",
              "      <td>8.0</td>\n",
              "    </tr>\n",
              "    <tr>\n",
              "      <th>900</th>\n",
              "      <td>2008</td>\n",
              "      <td>How to Be a Serial Killer</td>\n",
              "      <td>a serial killer decides to teach the secrets o...</td>\n",
              "      <td>['Comedy', 'Crime', 'Horror']</td>\n",
              "      <td>5.6</td>\n",
              "    </tr>\n",
              "    <tr>\n",
              "      <th>6724</th>\n",
              "      <td>1941</td>\n",
              "      <td>A Woman's Face</td>\n",
              "      <td>in sweden ,  a female blackmailer with a disfi...</td>\n",
              "      <td>['Drama', 'Film-Noir', 'Thriller']</td>\n",
              "      <td>7.2</td>\n",
              "    </tr>\n",
              "    <tr>\n",
              "      <th>4704</th>\n",
              "      <td>1954</td>\n",
              "      <td>Executive Suite</td>\n",
              "      <td>in a friday afternoon in new york ,  the presi...</td>\n",
              "      <td>['Drama']</td>\n",
              "      <td>7.4</td>\n",
              "    </tr>\n",
              "    <tr>\n",
              "      <th>2582</th>\n",
              "      <td>1990</td>\n",
              "      <td>Narrow Margin</td>\n",
              "      <td>in los angeles ,  the editor of a publishing h...</td>\n",
              "      <td>['Action', 'Crime', 'Thriller']</td>\n",
              "      <td>6.6</td>\n",
              "    </tr>\n",
              "  </tbody>\n",
              "</table>\n",
              "</div>"
            ],
            "text/plain": [
              "      year  ... rating\n",
              "3107  2003  ...    8.0\n",
              "900   2008  ...    5.6\n",
              "6724  1941  ...    7.2\n",
              "4704  1954  ...    7.4\n",
              "2582  1990  ...    6.6\n",
              "\n",
              "[5 rows x 5 columns]"
            ]
          },
          "metadata": {
            "tags": []
          },
          "execution_count": 10
        }
      ]
    },
    {
      "cell_type": "code",
      "metadata": {
        "id": "koJWVkAaF8wL",
        "colab_type": "code",
        "colab": {
          "base_uri": "https://localhost:8080/",
          "height": 204
        },
        "outputId": "457664dd-6a3e-435c-a2c4-9f0604f5e1a5"
      },
      "source": [
        "dataTesting.head()"
      ],
      "execution_count": 11,
      "outputs": [
        {
          "output_type": "execute_result",
          "data": {
            "text/html": [
              "<div>\n",
              "<style scoped>\n",
              "    .dataframe tbody tr th:only-of-type {\n",
              "        vertical-align: middle;\n",
              "    }\n",
              "\n",
              "    .dataframe tbody tr th {\n",
              "        vertical-align: top;\n",
              "    }\n",
              "\n",
              "    .dataframe thead th {\n",
              "        text-align: right;\n",
              "    }\n",
              "</style>\n",
              "<table border=\"1\" class=\"dataframe\">\n",
              "  <thead>\n",
              "    <tr style=\"text-align: right;\">\n",
              "      <th></th>\n",
              "      <th>year</th>\n",
              "      <th>title</th>\n",
              "      <th>plot</th>\n",
              "    </tr>\n",
              "  </thead>\n",
              "  <tbody>\n",
              "    <tr>\n",
              "      <th>1</th>\n",
              "      <td>1999</td>\n",
              "      <td>Message in a Bottle</td>\n",
              "      <td>who meets by fate ,  shall be sealed by fate ....</td>\n",
              "    </tr>\n",
              "    <tr>\n",
              "      <th>4</th>\n",
              "      <td>1978</td>\n",
              "      <td>Midnight Express</td>\n",
              "      <td>the true story of billy hayes ,  an american c...</td>\n",
              "    </tr>\n",
              "    <tr>\n",
              "      <th>5</th>\n",
              "      <td>1996</td>\n",
              "      <td>Primal Fear</td>\n",
              "      <td>martin vail left the chicago da ' s office to ...</td>\n",
              "    </tr>\n",
              "    <tr>\n",
              "      <th>6</th>\n",
              "      <td>1950</td>\n",
              "      <td>Crisis</td>\n",
              "      <td>husband and wife americans dr .  eugene and mr...</td>\n",
              "    </tr>\n",
              "    <tr>\n",
              "      <th>7</th>\n",
              "      <td>1959</td>\n",
              "      <td>The Tingler</td>\n",
              "      <td>the coroner and scientist dr .  warren chapin ...</td>\n",
              "    </tr>\n",
              "  </tbody>\n",
              "</table>\n",
              "</div>"
            ],
            "text/plain": [
              "   year                title                                               plot\n",
              "1  1999  Message in a Bottle  who meets by fate ,  shall be sealed by fate ....\n",
              "4  1978     Midnight Express  the true story of billy hayes ,  an american c...\n",
              "5  1996          Primal Fear  martin vail left the chicago da ' s office to ...\n",
              "6  1950               Crisis  husband and wife americans dr .  eugene and mr...\n",
              "7  1959          The Tingler  the coroner and scientist dr .  warren chapin ..."
            ]
          },
          "metadata": {
            "tags": []
          },
          "execution_count": 11
        }
      ]
    },
    {
      "cell_type": "markdown",
      "metadata": {
        "id": "r0YEfazZF8wN",
        "colab_type": "text"
      },
      "source": [
        "### Create count vectorizer"
      ]
    },
    {
      "cell_type": "code",
      "metadata": {
        "id": "fKjr87lLF8wN",
        "colab_type": "code",
        "colab": {}
      },
      "source": [
        "lemma  = WordNetLemmatizer()\n",
        "\n",
        "def get_wordnet_pos(word):\n",
        "    \"\"\"Map POS tag to first character lemmatize() accepts\"\"\"\n",
        "    tag = nltk.pos_tag([word])[0][1][0].upper()\n",
        "    tag_dict = {\"J\": wordnet.ADJ,\n",
        "                \"N\": wordnet.NOUN,\n",
        "                \"V\": wordnet.VERB,\n",
        "                \"R\": wordnet.ADV}\n",
        "    return tag_dict.get(tag, wordnet.NOUN)\n",
        "\n",
        "\n",
        "def decontracted(phrase):\n",
        "    # specific\n",
        "    phrase = re.sub(r\"won't\", \"will not\", phrase)\n",
        "    phrase = re.sub(r\"can\\'t\", \"can not\", phrase)\n",
        "    # general\n",
        "    phrase = re.sub(r\"n\\'t\", \" not\", phrase)\n",
        "    phrase = re.sub(r\"\\'re\", \" are\", phrase)\n",
        "    phrase = re.sub(r\"\\'s\", \" is\", phrase)\n",
        "    phrase = re.sub(r\"\\'d\", \" would\", phrase)\n",
        "    phrase = re.sub(r\"\\'ll\", \" will\", phrase)\n",
        "    phrase = re.sub(r\"\\'t\", \" not\", phrase)\n",
        "    phrase = re.sub(r\"\\'ve\", \" have\", phrase)\n",
        "    phrase = re.sub(r\"\\'m\", \" am\", phrase)\n",
        "    return phrase\n",
        "\n",
        "stp = set(['br', 'the', 'i', 'me', 'my', 'myself', 'we', 'our', 'ours', 'ourselves', 'you', \"you're\", \"you've\",\\\n",
        "            \"you'll\", \"you'd\", 'your', 'yours', 'yourself', 'yourselves', 'he', 'him', 'his', 'himself', \\\n",
        "            'she', \"she's\", 'her', 'hers', 'herself', 'it', \"it's\", 'its', 'itself', 'they', 'them', 'their',\\\n",
        "            'theirs', 'themselves', 'what', 'which', 'who', 'whom', 'this', 'that', \"that'll\", 'these', 'those', \\\n",
        "            'am', 'is', 'are', 'was', 'were', 'be', 'been', 'being', 'have', 'has', 'had', 'having', 'do', 'does', \\\n",
        "            'did', 'doing', 'a', 'an', 'the', 'and', 'but', 'if', 'or', 'because', 'as', 'until', 'while', 'of', \\\n",
        "            'at', 'by', 'for', 'with', 'about', 'against', 'between', 'into', 'through', 'during', 'before', 'after',\\\n",
        "            'above', 'below', 'to', 'from', 'up', 'down', 'in', 'out', 'on', 'off', 'over', 'under', 'again', 'further',\\\n",
        "            'then', 'once', 'here', 'there', 'when', 'where', 'why', 'how', 'all', 'any', 'both', 'each', 'few', 'more',\\\n",
        "            'most', 'other', 'some', 'such', 'only', 'own', 'same', 'so', 'than', 'too', 'very', \\\n",
        "            's', 't', 'can', 'will', 'just', 'don', \"don't\", 'should', \"should've\", 'now', 'd', 'll', 'm', 'o', 're', \\\n",
        "            've', 'y', 'ain', 'aren', \"aren't\", 'couldn', \"couldn't\", 'didn', \"didn't\", 'doesn', \"doesn't\", 'hadn',\\\n",
        "            \"hadn't\", 'hasn', \"hasn't\", 'haven', \"haven't\", 'isn', \"isn't\", 'ma', 'mightn', \"mightn't\", 'mustn',\\\n",
        "            \"mustn't\", 'needn', \"needn't\", 'shan', \"shan't\", 'shouldn', \"shouldn't\", 'wasn', \"wasn't\", 'weren', \"weren't\", \\\n",
        "            'won', \"won't\", 'wouldn', \"wouldn't\"])\n",
        "\n",
        "from tqdm import tqdm"
      ],
      "execution_count": 12,
      "outputs": []
    },
    {
      "cell_type": "code",
      "metadata": {
        "id": "AhDa66_7F8wS",
        "colab_type": "code",
        "colab": {}
      },
      "source": [
        "preprocessed_plot = []\n",
        "\n",
        "dataTraining['all'] = str(dataTraining['year'])+' '+dataTraining['title']+' '+dataTraining['plot']\n",
        "dataTesting['all'] = str(dataTesting['year'])+' '+dataTesting['title']+' '+dataTesting['plot']\n",
        "\n",
        "for sentance in  pd.concat([dataTraining['all'],dataTesting['all']]).values:\n",
        "    sentance = re.sub(\"\\S*\\d\\S*\", \"\", sentance).strip()\n",
        "    sentance = re.sub('[^A-Za-z]+', ' ', sentance)\n",
        "    sentance = ' '.join(decontracted(e.lower()) for e in sentance.split())\n",
        "    sentance = ' '.join(lemma.lemmatize(w, get_wordnet_pos(w)) for w in sentance.split() if lemma.lemmatize(w, get_wordnet_pos(w)) not in stp)\n",
        "    preprocessed_plot.append(sentance.strip())"
      ],
      "execution_count": 13,
      "outputs": []
    },
    {
      "cell_type": "code",
      "metadata": {
        "id": "Wc1Qvo-0F8wY",
        "colab_type": "code",
        "colab": {}
      },
      "source": [
        "vect=Tokenizer()\n",
        "vect.fit_on_texts(preprocessed_plot)\n",
        "encoded = vect.texts_to_sequences(preprocessed_plot)\n",
        "v_size = len(vect.word_index)\n",
        "X_padF = sequence.pad_sequences(encoded, maxlen=468)\n",
        "X_pad = X_padF[:(dataTraining['plot'].shape[0])]\n",
        "X_padtest = X_padF[(dataTraining['plot'].shape[0]):]"
      ],
      "execution_count": 14,
      "outputs": []
    },
    {
      "cell_type": "markdown",
      "metadata": {
        "id": "_NTSJQW_F8we",
        "colab_type": "text"
      },
      "source": [
        "### Create y"
      ]
    },
    {
      "cell_type": "code",
      "metadata": {
        "id": "7aCc1X76F8wf",
        "colab_type": "code",
        "colab": {
          "base_uri": "https://localhost:8080/",
          "height": 136
        },
        "outputId": "d06b83f8-9baa-46eb-929d-e08f078eb865"
      },
      "source": [
        "dataTraining['genres'] = dataTraining['genres'].map(lambda z: eval(z))\n",
        "le = MultiLabelBinarizer()\n",
        "y_genres = le.fit_transform(dataTraining['genres'])\n",
        "y_genres"
      ],
      "execution_count": 15,
      "outputs": [
        {
          "output_type": "execute_result",
          "data": {
            "text/plain": [
              "array([[0, 0, 0, ..., 0, 0, 0],\n",
              "       [0, 0, 0, ..., 0, 0, 0],\n",
              "       [0, 0, 0, ..., 1, 0, 0],\n",
              "       ...,\n",
              "       [0, 1, 0, ..., 0, 0, 0],\n",
              "       [0, 1, 1, ..., 0, 0, 0],\n",
              "       [0, 1, 1, ..., 0, 0, 0]])"
            ]
          },
          "metadata": {
            "tags": []
          },
          "execution_count": 15
        }
      ]
    },
    {
      "cell_type": "code",
      "metadata": {
        "id": "aS6mliQZF8wg",
        "colab_type": "code",
        "colab": {}
      },
      "source": [
        "X_train, X_test, y_train_genres, y_test_genres = train_test_split(X_pad, y_genres, test_size=0.3, random_state=666)"
      ],
      "execution_count": 16,
      "outputs": []
    },
    {
      "cell_type": "markdown",
      "metadata": {
        "id": "H_1YepG0F8wi",
        "colab_type": "text"
      },
      "source": [
        "### Train multi-class multi-label model"
      ]
    },
    {
      "cell_type": "code",
      "metadata": {
        "id": "5pBE_ACY-y-A",
        "colab_type": "code",
        "colab": {}
      },
      "source": [
        "#for i in range(0,3):\n",
        "#  X_train = np.concatenate((X_train,X_train),axis=0)\n",
        "#  y_train_genres = np.concatenate((y_train_genres,y_train_genres),axis=0)\n",
        "#(X_train.shape[0], y_train_genres.shape[0])"
      ],
      "execution_count": 17,
      "outputs": []
    },
    {
      "cell_type": "code",
      "metadata": {
        "tags": [],
        "id": "60NHuauvF8wi",
        "colab_type": "code",
        "colab": {}
      },
      "source": [
        "%matplotlib inline\n",
        "dim = X_train.shape[1]\n",
        "output_var = y_train_genres.shape[1]"
      ],
      "execution_count": 18,
      "outputs": []
    },
    {
      "cell_type": "code",
      "metadata": {
        "id": "dqW0T7k2eI-j",
        "colab_type": "code",
        "colab": {}
      },
      "source": [
        "\n",
        "def auc(y_true, y_pred):\n",
        "    auc = tf.keras.metrics.auc(y_true, y_pred)[1]\n",
        "    K.get_session().run(tf.local_variables_initializer())\n",
        "    return auc\n",
        "\n",
        "\n",
        "def auc_roc(y_true, y_pred):\n",
        "    # any tensorflow metric\n",
        "    value, update_op = tf.contrib.metrics.streaming_auc(y_pred, y_true)\n",
        "\n",
        "    # find all variables created for this metric\n",
        "    metric_vars = [i for i in tf.local_variables() if 'auc_roc' in i.name.split('/')[1]]\n",
        "\n",
        "    # Add metric variables to GLOBAL_VARIABLES collection.\n",
        "    # They will be initialized for new session.\n",
        "    for v in metric_vars:\n",
        "        tf.add_to_collection(tf.GraphKeys.GLOBAL_VARIABLES, v)\n",
        "\n",
        "    # force to update metric values\n",
        "    with tf.control_dependencies([update_op]):\n",
        "        value = tf.identity(value)\n",
        "        return value"
      ],
      "execution_count": 19,
      "outputs": []
    },
    {
      "cell_type": "code",
      "metadata": {
        "id": "wkv0r7DE4ZYN",
        "colab_type": "code",
        "colab": {}
      },
      "source": [
        "def step_decay(epoch):\n",
        "\tinitial_lrate = 0.1\n",
        "\tdrop = 0.5\n",
        "\tepochs_drop = 3\n",
        "\tlrate = initial_lrate * math.pow(drop, math.floor((1+epoch)/epochs_drop))\n",
        "\treturn lrate\n",
        "\n",
        "lrate = LearningRateScheduler(step_decay)\n",
        "callbacks_list = [lrate]\n"
      ],
      "execution_count": 20,
      "outputs": []
    },
    {
      "cell_type": "code",
      "metadata": {
        "tags": [],
        "id": "lOKBfeZuF8wm",
        "colab_type": "code",
        "colab": {
          "base_uri": "https://localhost:8080/",
          "height": 357
        },
        "outputId": "72df77f7-79ef-4096-9177-e9d60260b78d"
      },
      "source": [
        "K.clear_session()\n",
        "model = Sequential(name=\"NLP with multiclass NLP with LSTM\")\n",
        "model.add(Embedding(v_size+1, 4096, input_length=468))\n",
        "model.add(LSTM(512, input_shape=(dim, ), return_sequences=False))\n",
        "model.add(Dropout(0.5))\n",
        "model.add(Dense(512, use_bias=True, kernel_regularizer=regularizers.l2(l=0.0001)))\n",
        "model.add(Dropout(0.5))\n",
        "model.add(Dense(output_var, use_bias=True, activation='sigmoid'))\n",
        "model.compile(loss='binary_crossentropy',\n",
        "              #optimizer='rmsprop',\n",
        "              optimizer=keras.optimizers.Adam(lr=0.0001, decay = 1e-5),\n",
        "#              metrics=['auc']\n",
        "              #metrics=['accuracy']\n",
        "              #metrics=[tf.keras.metrics.AUC(multi_label=True)]\n",
        "              #metrics=[auc_roc]\n",
        "              )\n",
        "model.summary()"
      ],
      "execution_count": 21,
      "outputs": [
        {
          "output_type": "stream",
          "text": [
            "Model: \"NLP with multiclass NLP with LSTM\"\n",
            "_________________________________________________________________\n",
            "Layer (type)                 Output Shape              Param #   \n",
            "=================================================================\n",
            "embedding_1 (Embedding)      (None, 468, 4096)         155029504 \n",
            "_________________________________________________________________\n",
            "lstm_1 (LSTM)                (None, 512)               9439232   \n",
            "_________________________________________________________________\n",
            "dropout_1 (Dropout)          (None, 512)               0         \n",
            "_________________________________________________________________\n",
            "dense_1 (Dense)              (None, 512)               262656    \n",
            "_________________________________________________________________\n",
            "dropout_2 (Dropout)          (None, 512)               0         \n",
            "_________________________________________________________________\n",
            "dense_2 (Dense)              (None, 24)                12312     \n",
            "=================================================================\n",
            "Total params: 164,743,704\n",
            "Trainable params: 164,743,704\n",
            "Non-trainable params: 0\n",
            "_________________________________________________________________\n"
          ],
          "name": "stdout"
        }
      ]
    },
    {
      "cell_type": "code",
      "metadata": {
        "id": "JqK31ZqyKQoY",
        "colab_type": "code",
        "colab": {
          "base_uri": "https://localhost:8080/",
          "height": 394
        },
        "outputId": "25a4ce6d-d3ad-4102-93b0-d2fd70207173"
      },
      "source": [
        "model.fit(X_train,y_train_genres,\n",
        "          validation_data=[X_test,y_test_genres],\n",
        "          class_weight='auto',\n",
        "          epochs=10,  \n",
        "          batch_size=64,\n",
        "          verbose=1,\n",
        "#          callbacks=[PlotLossesKeras(), callbacks_list]\n",
        "          callbacks=[PlotLossesKeras()]\n",
        "          )"
      ],
      "execution_count": 22,
      "outputs": [
        {
          "output_type": "display_data",
          "data": {
            "image/png": "[encoded data removed]",
            "text/plain": [
              "<Figure size 864x576 with 1 Axes>"
            ]
          },
          "metadata": {
            "tags": [],
            "needs_background": "light"
          }
        },
        {
          "output_type": "stream",
          "text": [
            "Loss\n",
            "\tvalidation       \t (min:    0.291, max:    0.343, cur:    0.297)\n",
            "\ttraining         \t (min:    0.179, max:    0.472, cur:    0.179)\n"
          ],
          "name": "stdout"
        },
        {
          "output_type": "execute_result",
          "data": {
            "text/plain": [
              "<keras.callbacks.callbacks.History at 0x7f7928616c50>"
            ]
          },
          "metadata": {
            "tags": []
          },
          "execution_count": 22
        }
      ]
    },
    {
      "cell_type": "code",
      "metadata": {
        "id": "XiuhxcR2F8wr",
        "colab_type": "code",
        "colab": {
          "base_uri": "https://localhost:8080/",
          "height": 34
        },
        "outputId": "6832b2f2-c558-47fe-b1ae-a430b8122c15"
      },
      "source": [
        "roc_auc_score(y_test_genres, model.predict_proba(X_test), average='macro')"
      ],
      "execution_count": 23,
      "outputs": [
        {
          "output_type": "execute_result",
          "data": {
            "text/plain": [
              "0.7996339632775511"
            ]
          },
          "metadata": {
            "tags": []
          },
          "execution_count": 23
        }
      ]
    },
    {
      "cell_type": "code",
      "metadata": {
        "id": "oabuA7cTX3z1",
        "colab_type": "code",
        "colab": {
          "base_uri": "https://localhost:8080/",
          "height": 34
        },
        "outputId": "d6b42072-ef0d-4081-d05e-2a23e1ff7885"
      },
      "source": [
        "roc_auc_score(y_train_genres, model.predict_proba(X_train), average='macro')"
      ],
      "execution_count": 24,
      "outputs": [
        {
          "output_type": "execute_result",
          "data": {
            "text/plain": [
              "0.9680606953940577"
            ]
          },
          "metadata": {
            "tags": []
          },
          "execution_count": 24
        }
      ]
    },
    {
      "cell_type": "markdown",
      "metadata": {
        "id": "TmxtFmDzF8ww",
        "colab_type": "text"
      },
      "source": [
        "### Predict the testing dataset"
      ]
    },
    {
      "cell_type": "code",
      "metadata": {
        "id": "mAjHJ8kFF8w0",
        "colab_type": "code",
        "colab": {}
      },
      "source": [
        "cols = ['p_Action', 'p_Adventure', 'p_Animation', 'p_Biography', 'p_Comedy', 'p_Crime', 'p_Documentary', 'p_Drama', 'p_Family',\n",
        "        'p_Fantasy', 'p_Film-Noir', 'p_History', 'p_Horror', 'p_Music', 'p_Musical', 'p_Mystery', 'p_News', 'p_Romance',\n",
        "        'p_Sci-Fi', 'p_Short', 'p_Sport', 'p_Thriller', 'p_War', 'p_Western']\n",
        "\n",
        "y_pred_test_genres = model.predict_proba(X_padtest)"
      ],
      "execution_count": 26,
      "outputs": []
    },
    {
      "cell_type": "code",
      "metadata": {
        "id": "mhYAnAH2F8w1",
        "colab_type": "code",
        "colab": {}
      },
      "source": [
        "res = pd.DataFrame(y_pred_test_genres, index=dataTesting.index, columns=cols)"
      ],
      "execution_count": 27,
      "outputs": []
    },
    {
      "cell_type": "code",
      "metadata": {
        "id": "RIk7FXcfF8w3",
        "colab_type": "code",
        "colab": {
          "base_uri": "https://localhost:8080/",
          "height": 241
        },
        "outputId": "530238fd-854f-44bd-fa2f-ac21c8de45e0"
      },
      "source": [
        "res.head()"
      ],
      "execution_count": 28,
      "outputs": [
        {
          "output_type": "execute_result",
          "data": {
            "text/html": [
              "<div>\n",
              "<style scoped>\n",
              "    .dataframe tbody tr th:only-of-type {\n",
              "        vertical-align: middle;\n",
              "    }\n",
              "\n",
              "    .dataframe tbody tr th {\n",
              "        vertical-align: top;\n",
              "    }\n",
              "\n",
              "    .dataframe thead th {\n",
              "        text-align: right;\n",
              "    }\n",
              "</style>\n",
              "<table border=\"1\" class=\"dataframe\">\n",
              "  <thead>\n",
              "    <tr style=\"text-align: right;\">\n",
              "      <th></th>\n",
              "      <th>p_Action</th>\n",
              "      <th>p_Adventure</th>\n",
              "      <th>p_Animation</th>\n",
              "      <th>p_Biography</th>\n",
              "      <th>p_Comedy</th>\n",
              "      <th>p_Crime</th>\n",
              "      <th>p_Documentary</th>\n",
              "      <th>p_Drama</th>\n",
              "      <th>p_Family</th>\n",
              "      <th>p_Fantasy</th>\n",
              "      <th>p_Film-Noir</th>\n",
              "      <th>p_History</th>\n",
              "      <th>p_Horror</th>\n",
              "      <th>p_Music</th>\n",
              "      <th>p_Musical</th>\n",
              "      <th>p_Mystery</th>\n",
              "      <th>p_News</th>\n",
              "      <th>p_Romance</th>\n",
              "      <th>p_Sci-Fi</th>\n",
              "      <th>p_Short</th>\n",
              "      <th>p_Sport</th>\n",
              "      <th>p_Thriller</th>\n",
              "      <th>p_War</th>\n",
              "      <th>p_Western</th>\n",
              "    </tr>\n",
              "  </thead>\n",
              "  <tbody>\n",
              "    <tr>\n",
              "      <th>1</th>\n",
              "      <td>0.055579</td>\n",
              "      <td>0.033596</td>\n",
              "      <td>0.002035</td>\n",
              "      <td>0.005184</td>\n",
              "      <td>0.183006</td>\n",
              "      <td>0.051392</td>\n",
              "      <td>0.001679</td>\n",
              "      <td>0.616492</td>\n",
              "      <td>0.006817</td>\n",
              "      <td>0.028657</td>\n",
              "      <td>0.008489</td>\n",
              "      <td>0.005498</td>\n",
              "      <td>0.051390</td>\n",
              "      <td>0.004782</td>\n",
              "      <td>0.005968</td>\n",
              "      <td>0.054910</td>\n",
              "      <td>0.000519</td>\n",
              "      <td>0.152711</td>\n",
              "      <td>0.029001</td>\n",
              "      <td>0.002369</td>\n",
              "      <td>0.005498</td>\n",
              "      <td>0.166858</td>\n",
              "      <td>0.011789</td>\n",
              "      <td>0.016481</td>\n",
              "    </tr>\n",
              "    <tr>\n",
              "      <th>4</th>\n",
              "      <td>0.435483</td>\n",
              "      <td>0.040230</td>\n",
              "      <td>0.007889</td>\n",
              "      <td>0.033047</td>\n",
              "      <td>0.167832</td>\n",
              "      <td>0.574047</td>\n",
              "      <td>0.118921</td>\n",
              "      <td>0.230081</td>\n",
              "      <td>0.008412</td>\n",
              "      <td>0.014957</td>\n",
              "      <td>0.037182</td>\n",
              "      <td>0.025060</td>\n",
              "      <td>0.094767</td>\n",
              "      <td>0.024606</td>\n",
              "      <td>0.005570</td>\n",
              "      <td>0.163918</td>\n",
              "      <td>0.002857</td>\n",
              "      <td>0.007265</td>\n",
              "      <td>0.055917</td>\n",
              "      <td>0.016207</td>\n",
              "      <td>0.022121</td>\n",
              "      <td>0.744800</td>\n",
              "      <td>0.038228</td>\n",
              "      <td>0.053042</td>\n",
              "    </tr>\n",
              "    <tr>\n",
              "      <th>5</th>\n",
              "      <td>0.001921</td>\n",
              "      <td>0.001386</td>\n",
              "      <td>0.001069</td>\n",
              "      <td>0.038066</td>\n",
              "      <td>0.749106</td>\n",
              "      <td>0.070253</td>\n",
              "      <td>0.011146</td>\n",
              "      <td>0.887053</td>\n",
              "      <td>0.005818</td>\n",
              "      <td>0.005374</td>\n",
              "      <td>0.007222</td>\n",
              "      <td>0.006003</td>\n",
              "      <td>0.002744</td>\n",
              "      <td>0.109203</td>\n",
              "      <td>0.015499</td>\n",
              "      <td>0.009134</td>\n",
              "      <td>0.000566</td>\n",
              "      <td>0.211350</td>\n",
              "      <td>0.000662</td>\n",
              "      <td>0.002257</td>\n",
              "      <td>0.046122</td>\n",
              "      <td>0.004932</td>\n",
              "      <td>0.006363</td>\n",
              "      <td>0.011840</td>\n",
              "    </tr>\n",
              "    <tr>\n",
              "      <th>6</th>\n",
              "      <td>0.091067</td>\n",
              "      <td>0.047190</td>\n",
              "      <td>0.003980</td>\n",
              "      <td>0.110755</td>\n",
              "      <td>0.024857</td>\n",
              "      <td>0.123354</td>\n",
              "      <td>0.013202</td>\n",
              "      <td>0.958246</td>\n",
              "      <td>0.006341</td>\n",
              "      <td>0.028290</td>\n",
              "      <td>0.070803</td>\n",
              "      <td>0.104127</td>\n",
              "      <td>0.029572</td>\n",
              "      <td>0.042333</td>\n",
              "      <td>0.017316</td>\n",
              "      <td>0.072929</td>\n",
              "      <td>0.004439</td>\n",
              "      <td>0.331890</td>\n",
              "      <td>0.033745</td>\n",
              "      <td>0.008001</td>\n",
              "      <td>0.037418</td>\n",
              "      <td>0.288057</td>\n",
              "      <td>0.162779</td>\n",
              "      <td>0.073275</td>\n",
              "    </tr>\n",
              "    <tr>\n",
              "      <th>7</th>\n",
              "      <td>0.004156</td>\n",
              "      <td>0.009102</td>\n",
              "      <td>0.010949</td>\n",
              "      <td>0.001913</td>\n",
              "      <td>0.892604</td>\n",
              "      <td>0.003847</td>\n",
              "      <td>0.015077</td>\n",
              "      <td>0.032792</td>\n",
              "      <td>0.081771</td>\n",
              "      <td>0.125197</td>\n",
              "      <td>0.000946</td>\n",
              "      <td>0.000770</td>\n",
              "      <td>0.666190</td>\n",
              "      <td>0.006280</td>\n",
              "      <td>0.008105</td>\n",
              "      <td>0.047364</td>\n",
              "      <td>0.000618</td>\n",
              "      <td>0.007439</td>\n",
              "      <td>0.039436</td>\n",
              "      <td>0.005868</td>\n",
              "      <td>0.009521</td>\n",
              "      <td>0.011199</td>\n",
              "      <td>0.001120</td>\n",
              "      <td>0.004214</td>\n",
              "    </tr>\n",
              "  </tbody>\n",
              "</table>\n",
              "</div>"
            ],
            "text/plain": [
              "   p_Action  p_Adventure  p_Animation  ...  p_Thriller     p_War  p_Western\n",
              "1  0.055579     0.033596     0.002035  ...    0.166858  0.011789   0.016481\n",
              "4  0.435483     0.040230     0.007889  ...    0.744800  0.038228   0.053042\n",
              "5  0.001921     0.001386     0.001069  ...    0.004932  0.006363   0.011840\n",
              "6  0.091067     0.047190     0.003980  ...    0.288057  0.162779   0.073275\n",
              "7  0.004156     0.009102     0.010949  ...    0.011199  0.001120   0.004214\n",
              "\n",
              "[5 rows x 24 columns]"
            ]
          },
          "metadata": {
            "tags": []
          },
          "execution_count": 28
        }
      ]
    },
    {
      "cell_type": "code",
      "metadata": {
        "id": "pbyNddJ9F8w5",
        "colab_type": "code",
        "colab": {}
      },
      "source": [
        "res.to_csv('YTP+4096+512.csv', index_label='ID')"
      ],
      "execution_count": 29,
      "outputs": []
    }
  ]
}