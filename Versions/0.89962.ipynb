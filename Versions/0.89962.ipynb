{
  "cells": [
    {
      "cell_type": "markdown",
      "metadata": {
        "id": "Np4BvX-8c54-",
        "colab_type": "text"
      },
      "source": [
        "# Project 2\n",
        "\n",
        "\n",
        "# Movie Genre Classification\n",
        "\n",
        "Classify a movie genre based on its plot.\n",
        "\n",
        "<img src=\"https://github.com/andresmarin94/Repositorio_Personal/blob/master/moviegenre.png?raw=1\"\n",
        "     style=\"float: left; margin-right: 10px;\" />\n",
        "\n",
        "\n",
        "\n",
        "\n",
        "https://www.kaggle.com/c/miia4200-20191-p2-moviegenreclassification/overview\n",
        "\n",
        "\n",
        "### Data\n",
        "\n",
        "Input:\n",
        "- movie plot\n",
        "\n",
        "Output:\n",
        "Probability of the movie belong to each genre\n",
        "\n",
        "\n",
        "### Evaluation\n",
        "\n",
        "- 20% API\n",
        "- 30% Create a solution using with a Machine Learning algorithm - Presentation (5 slides)\n",
        "- 50% Performance in the Kaggle competition (Normalized acording to class performance in the private leaderboard)\n",
        "\n",
        "\n",
        "### Acknowledgements\n",
        "\n",
        "We thank Professor Fabio Gonzalez, Ph.D. and his student John Arevalo for providing this dataset.\n",
        "\n",
        "See https://arxiv.org/abs/1702.01992"
      ]
    },
    {
      "cell_type": "markdown",
      "metadata": {
        "id": "X96jGTUFc54-",
        "colab_type": "text"
      },
      "source": [
        "## Sample Submission"
      ]
    },
    {
      "cell_type": "code",
      "metadata": {
        "id": "KNv8Uhecc54_",
        "colab_type": "code",
        "colab": {
          "base_uri": "https://localhost:8080/",
          "height": 51
        },
        "outputId": "54fd10eb-3de9-401f-d803-3fd38d4d059e",
        "tags": []
      },
      "source": [
        "import pandas as pd\n",
        "import os\n",
        "import numpy as np\n",
        "from sklearn.feature_extraction.text import CountVectorizer, TfidfVectorizer\n",
        "from sklearn.preprocessing import MultiLabelBinarizer\n",
        "from sklearn.multiclass import OneVsRestClassifier\n",
        "from sklearn.ensemble import RandomForestRegressor, RandomForestClassifier,AdaBoostClassifier,GradientBoostingClassifier,BaggingClassifier\n",
        "from sklearn.metrics import r2_score, roc_auc_score\n",
        "from sklearn.model_selection import train_test_split\n",
        "from sklearn.tree import DecisionTreeClassifier\n",
        "from nltk.stem import WordNetLemmatizer\n",
        "import nltk\n",
        "nltk.download('wordnet')\n",
        "import xgboost\n",
        "from sklearn.linear_model import LogisticRegression, LogisticRegressionCV"
      ],
      "execution_count": 36,
      "outputs": [
        {
          "output_type": "stream",
          "name": "stderr",
          "text": "[nltk_data] Downloading package wordnet to\n[nltk_data]     C:\\Users\\carlo\\AppData\\Roaming\\nltk_data...\n[nltk_data]   Package wordnet is already up-to-date!\n"
        }
      ]
    },
    {
      "cell_type": "code",
      "metadata": {
        "id": "3mNIDIbTc55D",
        "colab_type": "code",
        "colab": {}
      },
      "source": [
        "import re"
      ],
      "execution_count": 37,
      "outputs": []
    },
    {
      "cell_type": "code",
      "metadata": {
        "id": "5xtIHE5Cc55E",
        "colab_type": "code",
        "colab": {}
      },
      "source": [
        "dataTraining = pd.read_csv('https://github.com/albahnsen/AdvancedMethodsDataAnalysisClass/raw/master/datasets/dataTraining.zip', encoding='UTF-8', index_col=0)\n",
        "dataTesting = pd.read_csv('https://github.com/albahnsen/AdvancedMethodsDataAnalysisClass/raw/master/datasets/dataTesting.zip', encoding='UTF-8', index_col=0)"
      ],
      "execution_count": 38,
      "outputs": []
    },
    {
      "cell_type": "markdown",
      "metadata": {
        "id": "UQzfCxJZc55G",
        "colab_type": "text"
      },
      "source": [
        "### Create count vectorizer\n"
      ]
    },
    {
      "cell_type": "code",
      "metadata": {
        "id": "TZ87APvnghhv",
        "colab_type": "code",
        "colab": {
          "base_uri": "https://localhost:8080/",
          "height": 204
        },
        "outputId": "681382e3-491b-46ba-a4e7-5579ae81ef85"
      },
      "source": [
        "dataTraining.head(5)"
      ],
      "execution_count": 39,
      "outputs": [
        {
          "output_type": "execute_result",
          "data": {
            "text/plain": "      year                      title  \\\n3107  2003                       Most   \n900   2008  How to Be a Serial Killer   \n6724  1941             A Woman's Face   \n4704  1954            Executive Suite   \n2582  1990              Narrow Margin   \n\n                                                   plot  \\\n3107  most is the story of a single father who takes...   \n900   a serial killer decides to teach the secrets o...   \n6724  in sweden ,  a female blackmailer with a disfi...   \n4704  in a friday afternoon in new york ,  the presi...   \n2582  in los angeles ,  the editor of a publishing h...   \n\n                                  genres  rating  \n3107                  ['Short', 'Drama']     8.0  \n900        ['Comedy', 'Crime', 'Horror']     5.6  \n6724  ['Drama', 'Film-Noir', 'Thriller']     7.2  \n4704                           ['Drama']     7.4  \n2582     ['Action', 'Crime', 'Thriller']     6.6  ",
            "text/html": "<div>\n<style scoped>\n    .dataframe tbody tr th:only-of-type {\n        vertical-align: middle;\n    }\n\n    .dataframe tbody tr th {\n        vertical-align: top;\n    }\n\n    .dataframe thead th {\n        text-align: right;\n    }\n</style>\n<table border=\"1\" class=\"dataframe\">\n  <thead>\n    <tr style=\"text-align: right;\">\n      <th></th>\n      <th>year</th>\n      <th>title</th>\n      <th>plot</th>\n      <th>genres</th>\n      <th>rating</th>\n    </tr>\n  </thead>\n  <tbody>\n    <tr>\n      <th>3107</th>\n      <td>2003</td>\n      <td>Most</td>\n      <td>most is the story of a single father who takes...</td>\n      <td>['Short', 'Drama']</td>\n      <td>8.0</td>\n    </tr>\n    <tr>\n      <th>900</th>\n      <td>2008</td>\n      <td>How to Be a Serial Killer</td>\n      <td>a serial killer decides to teach the secrets o...</td>\n      <td>['Comedy', 'Crime', 'Horror']</td>\n      <td>5.6</td>\n    </tr>\n    <tr>\n      <th>6724</th>\n      <td>1941</td>\n      <td>A Woman's Face</td>\n      <td>in sweden ,  a female blackmailer with a disfi...</td>\n      <td>['Drama', 'Film-Noir', 'Thriller']</td>\n      <td>7.2</td>\n    </tr>\n    <tr>\n      <th>4704</th>\n      <td>1954</td>\n      <td>Executive Suite</td>\n      <td>in a friday afternoon in new york ,  the presi...</td>\n      <td>['Drama']</td>\n      <td>7.4</td>\n    </tr>\n    <tr>\n      <th>2582</th>\n      <td>1990</td>\n      <td>Narrow Margin</td>\n      <td>in los angeles ,  the editor of a publishing h...</td>\n      <td>['Action', 'Crime', 'Thriller']</td>\n      <td>6.6</td>\n    </tr>\n  </tbody>\n</table>\n</div>"
          },
          "metadata": {},
          "execution_count": 39
        }
      ]
    },
    {
      "cell_type": "code",
      "metadata": {
        "id": "fLZIhs0MddT-",
        "colab_type": "code",
        "colab": {
          "base_uri": "https://localhost:8080/",
          "height": 204
        },
        "outputId": "d12702e8-4eca-4b46-ab88-3a568f7166a5"
      },
      "source": [
        "dataTesting.head(5)"
      ],
      "execution_count": 40,
      "outputs": [
        {
          "output_type": "execute_result",
          "data": {
            "text/plain": "   year                title  \\\n1  1999  Message in a Bottle   \n4  1978     Midnight Express   \n5  1996          Primal Fear   \n6  1950               Crisis   \n7  1959          The Tingler   \n\n                                                plot  \n1  who meets by fate ,  shall be sealed by fate ....  \n4  the true story of billy hayes ,  an american c...  \n5  martin vail left the chicago da ' s office to ...  \n6  husband and wife americans dr .  eugene and mr...  \n7  the coroner and scientist dr .  warren chapin ...  ",
            "text/html": "<div>\n<style scoped>\n    .dataframe tbody tr th:only-of-type {\n        vertical-align: middle;\n    }\n\n    .dataframe tbody tr th {\n        vertical-align: top;\n    }\n\n    .dataframe thead th {\n        text-align: right;\n    }\n</style>\n<table border=\"1\" class=\"dataframe\">\n  <thead>\n    <tr style=\"text-align: right;\">\n      <th></th>\n      <th>year</th>\n      <th>title</th>\n      <th>plot</th>\n    </tr>\n  </thead>\n  <tbody>\n    <tr>\n      <th>1</th>\n      <td>1999</td>\n      <td>Message in a Bottle</td>\n      <td>who meets by fate ,  shall be sealed by fate ....</td>\n    </tr>\n    <tr>\n      <th>4</th>\n      <td>1978</td>\n      <td>Midnight Express</td>\n      <td>the true story of billy hayes ,  an american c...</td>\n    </tr>\n    <tr>\n      <th>5</th>\n      <td>1996</td>\n      <td>Primal Fear</td>\n      <td>martin vail left the chicago da ' s office to ...</td>\n    </tr>\n    <tr>\n      <th>6</th>\n      <td>1950</td>\n      <td>Crisis</td>\n      <td>husband and wife americans dr .  eugene and mr...</td>\n    </tr>\n    <tr>\n      <th>7</th>\n      <td>1959</td>\n      <td>The Tingler</td>\n      <td>the coroner and scientist dr .  warren chapin ...</td>\n    </tr>\n  </tbody>\n</table>\n</div>"
          },
          "metadata": {},
          "execution_count": 40
        }
      ]
    },
    {
      "cell_type": "code",
      "metadata": {
        "id": "mGavhh4_c55H",
        "colab_type": "code",
        "colab": {}
      },
      "source": [
        "dataTraining['title']=dataTraining['title'].str.lower()\n",
        "dataTraining['title']=dataTraining['title'].str.replace(',', '') \n",
        "dataTraining['title']=dataTraining['title'].str.replace('.', '') \n",
        "dataTraining['title']=dataTraining['title'].str.replace('-', '') \n",
        "dataTraining['title']=dataTraining['title'].str.replace('_', '') \n",
        "dataTraining['plot']=dataTraining['plot'].str.lower()\n",
        "dataTraining['plot']=dataTraining['plot'].str.replace(',', '') \n",
        "dataTraining['plot']=dataTraining['plot'].str.replace('.', '') \n",
        "dataTraining['plot']=dataTraining['plot'].str.replace('-', '') \n",
        "dataTraining['plot']=dataTraining['plot'].str.replace('_', '') "
      ],
      "execution_count": 41,
      "outputs": []
    },
    {
      "cell_type": "code",
      "metadata": {
        "id": "9CP6fTokc55J",
        "colab_type": "code",
        "colab": {}
      },
      "source": [
        "dataTesting['plot']=dataTesting['plot'].str.lower()\n",
        "dataTesting['plot']=dataTesting['plot'].str.replace(',', '') \n",
        "dataTesting['plot']=dataTesting['plot'].str.replace('.', '') \n",
        "dataTesting['plot']=dataTesting['plot'].str.replace('-', '') \n",
        "dataTesting['plot']=dataTesting['plot'].str.replace('_', '')\n",
        "dataTesting['title']=dataTesting['title'].str.lower()\n",
        "dataTesting['title']=dataTesting['title'].str.replace(',', '') \n",
        "dataTesting['title']=dataTesting['title'].str.replace('.', '') \n",
        "dataTesting['title']=dataTesting['title'].str.replace('-', '') \n",
        "dataTesting['title']=dataTesting['title'].str.replace('_', '') "
      ],
      "execution_count": 42,
      "outputs": []
    },
    {
      "cell_type": "code",
      "metadata": {
        "id": "EtjMEBJ-c55L",
        "colab_type": "code",
        "colab": {}
      },
      "source": [
        "wordnet_lemmatizer = WordNetLemmatizer()"
      ],
      "execution_count": 43,
      "outputs": []
    },
    {
      "cell_type": "code",
      "metadata": {
        "id": "nGNHLBxMc55N",
        "colab_type": "code",
        "colab": {}
      },
      "source": [
        "dataTraining['uno']= dataTraining['title']+dataTraining['plot']\n",
        "dataTesting['uno'] = dataTesting['title']+dataTesting['plot']\n",
        "\n",
        "data = dataTraining['uno'].append(dataTesting['uno'])\n",
        "years = dataTraining['year'].append(dataTesting['year'])"
      ],
      "execution_count": 44,
      "outputs": []
    },
    {
      "cell_type": "code",
      "metadata": {
        "id": "RZ-4RXXDc55Q",
        "colab_type": "code",
        "colab": {}
      },
      "source": [
        "wordnet_lemmatizer = WordNetLemmatizer()\n",
        "def split_into_lemmas(text):\n",
        "    text = text.lower()\n",
        "    words = text.split()\n",
        "    return [wordnet_lemmatizer.lemmatize(word, 's') for word in words]\n",
        "\n",
        "vect = TfidfVectorizer(analyzer=split_into_lemmas, min_df=2,max_features=None,sublinear_tf=True,\n",
        "                       strip_accents='unicode',ngram_range=(1,2),stop_words='english')\n",
        "\n",
        "#X_dtm = vect.fit_transform(dataTraining['uno'],dataTraining['year'])\n",
        "#X_dtm.shape\n",
        "X_dtm = vect.fit_transform(data, years)"
      ],
      "execution_count": 45,
      "outputs": []
    },
    {
      "cell_type": "code",
      "metadata": {
        "id": "n_gjNWdVfQ4X",
        "colab_type": "code",
        "colab": {}
      },
      "source": [
        "X_dtm_test = X_dtm[dataTraining.shape[0]:,:]\n",
        "X_dtm = X_dtm[:dataTraining.shape[0],:]"
      ],
      "execution_count": 46,
      "outputs": []
    },
    {
      "cell_type": "markdown",
      "metadata": {
        "id": "tmVI8qyCc55S",
        "colab_type": "text"
      },
      "source": [
        "### Create y"
      ]
    },
    {
      "cell_type": "code",
      "metadata": {
        "id": "guDDARO-c55T",
        "colab_type": "code",
        "colab": {}
      },
      "source": [
        "dataTraining['genres'] = dataTraining['genres'].map(lambda x: eval(x))\n",
        "\n",
        "le = MultiLabelBinarizer()\n",
        "y_genres = le.fit_transform(dataTraining['genres'])"
      ],
      "execution_count": 47,
      "outputs": []
    },
    {
      "cell_type": "code",
      "metadata": {
        "id": "PXaq11dIc55V",
        "colab_type": "code",
        "colab": {}
      },
      "source": [
        "X_train, X_test, y_train_genres, y_test_genres = train_test_split(X_dtm, y_genres, test_size=0.3, random_state=666)"
      ],
      "execution_count": 48,
      "outputs": []
    },
    {
      "cell_type": "markdown",
      "metadata": {
        "id": "d3BsC3G4c55X",
        "colab_type": "text"
      },
      "source": [
        "### Train multi-class multi-label model"
      ]
    },
    {
      "cell_type": "code",
      "metadata": {
        "id": "x5lQDBV7c55X",
        "colab_type": "code",
        "colab": {}
      },
      "source": [
        "\n",
        "#clf = OneVsRestClassifier(RandomForestClassifier(n_jobs=-1,max_depth=10,n_estimators=1000, random_state=60,criterion='entropy'))"
      ],
      "execution_count": 49,
      "outputs": []
    },
    {
      "cell_type": "code",
      "metadata": {
        "id": "JsXQ8jXoc55Z",
        "colab_type": "code",
        "colab": {
          "base_uri": "https://localhost:8080/",
          "height": 34
        },
        "outputId": "830205c2-08b8-411f-c5c0-c431202fbc75"
      },
      "source": [
        "LogReg_Model = OneVsRestClassifier(LogisticRegression(multi_class='multinomial',solver='newton-cg',C=1.5,\n",
        "#                                                     warm_start=True,penalty='elasticnet',random_state=456, cv=10))\n",
        "                                                      warm_start=True, penalty='l2',random_state=999), n_jobs=-1)\n",
        "\n",
        "LogReg_Model.fit(X_dtm, y_genres)\n",
        "y_pred_genres = LogReg_Model.predict_proba(X_test)\n",
        "roc_auc_score(y_test_genres, y_pred_genres, average='macro')"
      ],
      "execution_count": 50,
      "outputs": [
        {
          "output_type": "execute_result",
          "data": {
            "text/plain": "0.9967011998269161"
          },
          "metadata": {},
          "execution_count": 50
        }
      ]
    },
    {
      "cell_type": "markdown",
      "metadata": {
        "id": "Z8j6n4Ysc55f",
        "colab_type": "text"
      },
      "source": [
        "### Predict the testing dataset"
      ]
    },
    {
      "cell_type": "code",
      "metadata": {
        "id": "6O2GE4Zxc55f",
        "colab_type": "code",
        "colab": {}
      },
      "source": [
        "\n",
        "\n",
        "cols = ['p_Action', 'p_Adventure', 'p_Animation', 'p_Biography', 'p_Comedy', 'p_Crime', 'p_Documentary', 'p_Drama', 'p_Family',\n",
        "        'p_Fantasy', 'p_Film-Noir', 'p_History', 'p_Horror', 'p_Music', 'p_Musical', 'p_Mystery', 'p_News', 'p_Romance',\n",
        "        'p_Sci-Fi', 'p_Short', 'p_Sport', 'p_Thriller', 'p_War', 'p_Western']\n",
        "\n",
        "y_pred_test_genres = LogReg_Model.predict_proba(X_dtm_test)\n"
      ],
      "execution_count": 51,
      "outputs": []
    },
    {
      "cell_type": "code",
      "metadata": {
        "id": "Lhr3BvRCc55h",
        "colab_type": "code",
        "colab": {}
      },
      "source": [
        "res = pd.DataFrame(y_pred_test_genres, index=dataTesting.index, columns=cols)"
      ],
      "execution_count": 52,
      "outputs": []
    },
    {
      "cell_type": "code",
      "metadata": {
        "id": "7ogpA2l9c55i",
        "colab_type": "code",
        "colab": {
          "base_uri": "https://localhost:8080/",
          "height": 241
        },
        "outputId": "f58cd756-a96b-470e-99a6-7ee61478e136"
      },
      "source": [
        "res.head()"
      ],
      "execution_count": 53,
      "outputs": [
        {
          "output_type": "execute_result",
          "data": {
            "text/plain": "   p_Action  p_Adventure  p_Animation  p_Biography  p_Comedy   p_Crime  \\\n1  0.134051     0.073878     0.025038     0.013649  0.345190  0.091437   \n4  0.130505     0.025498     0.023197     0.120260  0.236176  0.353956   \n5  0.050278     0.012661     0.003861     0.054951  0.052461  0.754219   \n6  0.086433     0.085906     0.008635     0.042006  0.130607  0.044529   \n7  0.022749     0.030630     0.017901     0.024319  0.160061  0.065459   \n\n   p_Documentary   p_Drama  p_Family  p_Fantasy  ...  p_Musical  p_Mystery  \\\n1       0.007755  0.389886  0.042179   0.124742  ...   0.041198   0.059782   \n4       0.034612  0.880085  0.031787   0.016500  ...   0.020940   0.038048   \n5       0.011673  0.807502  0.006741   0.016954  ...   0.013003   0.473465   \n6       0.007448  0.834776  0.024779   0.038127  ...   0.017634   0.091954   \n7       0.013257  0.377242  0.030876   0.109734  ...   0.015774   0.075222   \n\n     p_News  p_Romance  p_Sci-Fi   p_Short   p_Sport  p_Thriller     p_War  \\\n1  0.000795   0.744693  0.021727  0.007269  0.011798    0.111841  0.013360   \n4  0.001103   0.049325  0.011523  0.010007  0.019921    0.395967  0.030852   \n5  0.001042   0.128824  0.025417  0.003851  0.018768    0.601765  0.019186   \n6  0.000812   0.148411  0.118043  0.004799  0.022458    0.409718  0.076917   \n7  0.000834   0.133747  0.425681  0.008434  0.007656    0.344601  0.009135   \n\n   p_Western  \n1   0.019492  \n4   0.012784  \n5   0.009530  \n6   0.018982  \n7   0.012498  \n\n[5 rows x 24 columns]",
            "text/html": "<div>\n<style scoped>\n    .dataframe tbody tr th:only-of-type {\n        vertical-align: middle;\n    }\n\n    .dataframe tbody tr th {\n        vertical-align: top;\n    }\n\n    .dataframe thead th {\n        text-align: right;\n    }\n</style>\n<table border=\"1\" class=\"dataframe\">\n  <thead>\n    <tr style=\"text-align: right;\">\n      <th></th>\n      <th>p_Action</th>\n      <th>p_Adventure</th>\n      <th>p_Animation</th>\n      <th>p_Biography</th>\n      <th>p_Comedy</th>\n      <th>p_Crime</th>\n      <th>p_Documentary</th>\n      <th>p_Drama</th>\n      <th>p_Family</th>\n      <th>p_Fantasy</th>\n      <th>...</th>\n      <th>p_Musical</th>\n      <th>p_Mystery</th>\n      <th>p_News</th>\n      <th>p_Romance</th>\n      <th>p_Sci-Fi</th>\n      <th>p_Short</th>\n      <th>p_Sport</th>\n      <th>p_Thriller</th>\n      <th>p_War</th>\n      <th>p_Western</th>\n    </tr>\n  </thead>\n  <tbody>\n    <tr>\n      <th>1</th>\n      <td>0.134051</td>\n      <td>0.073878</td>\n      <td>0.025038</td>\n      <td>0.013649</td>\n      <td>0.345190</td>\n      <td>0.091437</td>\n      <td>0.007755</td>\n      <td>0.389886</td>\n      <td>0.042179</td>\n      <td>0.124742</td>\n      <td>...</td>\n      <td>0.041198</td>\n      <td>0.059782</td>\n      <td>0.000795</td>\n      <td>0.744693</td>\n      <td>0.021727</td>\n      <td>0.007269</td>\n      <td>0.011798</td>\n      <td>0.111841</td>\n      <td>0.013360</td>\n      <td>0.019492</td>\n    </tr>\n    <tr>\n      <th>4</th>\n      <td>0.130505</td>\n      <td>0.025498</td>\n      <td>0.023197</td>\n      <td>0.120260</td>\n      <td>0.236176</td>\n      <td>0.353956</td>\n      <td>0.034612</td>\n      <td>0.880085</td>\n      <td>0.031787</td>\n      <td>0.016500</td>\n      <td>...</td>\n      <td>0.020940</td>\n      <td>0.038048</td>\n      <td>0.001103</td>\n      <td>0.049325</td>\n      <td>0.011523</td>\n      <td>0.010007</td>\n      <td>0.019921</td>\n      <td>0.395967</td>\n      <td>0.030852</td>\n      <td>0.012784</td>\n    </tr>\n    <tr>\n      <th>5</th>\n      <td>0.050278</td>\n      <td>0.012661</td>\n      <td>0.003861</td>\n      <td>0.054951</td>\n      <td>0.052461</td>\n      <td>0.754219</td>\n      <td>0.011673</td>\n      <td>0.807502</td>\n      <td>0.006741</td>\n      <td>0.016954</td>\n      <td>...</td>\n      <td>0.013003</td>\n      <td>0.473465</td>\n      <td>0.001042</td>\n      <td>0.128824</td>\n      <td>0.025417</td>\n      <td>0.003851</td>\n      <td>0.018768</td>\n      <td>0.601765</td>\n      <td>0.019186</td>\n      <td>0.009530</td>\n    </tr>\n    <tr>\n      <th>6</th>\n      <td>0.086433</td>\n      <td>0.085906</td>\n      <td>0.008635</td>\n      <td>0.042006</td>\n      <td>0.130607</td>\n      <td>0.044529</td>\n      <td>0.007448</td>\n      <td>0.834776</td>\n      <td>0.024779</td>\n      <td>0.038127</td>\n      <td>...</td>\n      <td>0.017634</td>\n      <td>0.091954</td>\n      <td>0.000812</td>\n      <td>0.148411</td>\n      <td>0.118043</td>\n      <td>0.004799</td>\n      <td>0.022458</td>\n      <td>0.409718</td>\n      <td>0.076917</td>\n      <td>0.018982</td>\n    </tr>\n    <tr>\n      <th>7</th>\n      <td>0.022749</td>\n      <td>0.030630</td>\n      <td>0.017901</td>\n      <td>0.024319</td>\n      <td>0.160061</td>\n      <td>0.065459</td>\n      <td>0.013257</td>\n      <td>0.377242</td>\n      <td>0.030876</td>\n      <td>0.109734</td>\n      <td>...</td>\n      <td>0.015774</td>\n      <td>0.075222</td>\n      <td>0.000834</td>\n      <td>0.133747</td>\n      <td>0.425681</td>\n      <td>0.008434</td>\n      <td>0.007656</td>\n      <td>0.344601</td>\n      <td>0.009135</td>\n      <td>0.012498</td>\n    </tr>\n  </tbody>\n</table>\n<p>5 rows × 24 columns</p>\n</div>"
          },
          "metadata": {},
          "execution_count": 53
        }
      ]
    },
    {
      "cell_type": "code",
      "metadata": {
        "id": "wMtoQvrmc55l",
        "colab_type": "code",
        "colab": {}
      },
      "source": [
        "res.to_csv('testtest.csv', index_label='ID')"
      ],
      "execution_count": 54,
      "outputs": []
    }
  ],
  "metadata": {
    "kernelspec": {
      "display_name": "Python 3",
      "language": "python",
      "name": "python3"
    },
    "language_info": {
      "codemirror_mode": {
        "name": "ipython",
        "version": 3
      },
      "file_extension": ".py",
      "mimetype": "text/x-python",
      "name": "python",
      "nbconvert_exporter": "python",
      "pygments_lexer": "ipython3",
      "version": "3.7.0"
    },
    "colab": {
      "name": "0.89089L.ipynb",
      "provenance": [],
      "collapsed_sections": [],
      "toc_visible": true,
      "machine_shape": "hm"
    }
  },
  "nbformat": 4,
  "nbformat_minor": 0
}