{
 "cells": [
  {
   "cell_type": "markdown",
   "metadata": {},
   "source": [
    "# Project 3\n",
    "\n",
    "\n",
    "# Movie Genre Classification\n",
    "\n",
    "Classify a movie genre based on its plot.\n",
    "\n",
    "<img src=\"moviegenre.png\"\n",
    "     style=\"float: left; margin-right: 10px;\" />\n",
    "\n",
    "\n",
    "\n",
    "\n",
    "https://www.kaggle.com/c/miia4201-202019-p3-moviegenreclassification/overview\n",
    "\n",
    "### Data\n",
    "\n",
    "Input:\n",
    "- movie plot\n",
    "\n",
    "Output:\n",
    "Probability of the movie belong to each genre\n",
    "\n",
    "\n",
    "### Evaluation\n",
    "\n",
    "- 20% API\n",
    "- 30% Report with all the details of the solution, the analysis and the conclusions. The report cannot exceed 10 pages, must be send in PDF format and must be self-contained.\n",
    "- 50% Performance in the Kaggle competition (The grade for each group will be proportional to the ranking it occupies in the competition. The group in the first place will obtain 5 points, for each position below, 0.25 points will be subtracted, that is: first place: 5 points, second: 4.75 points, third place: 4.50 points ... eleventh place: 2.50 points, twelfth place: 2.25 points).\n",
    "\n",
    "• The project must be carried out in the groups assigned for module 4.\n",
    "• Use clear and rigorous procedures.\n",
    "• The delivery of the project is on July 12, 2020, 11:59 pm, through Sicua + (Upload: the API and the report in PDF format).\n",
    "• No projects will be received after the delivery time or by any other means than the one established. \n",
    "\n",
    "\n",
    "\n",
    "\n",
    "### Acknowledgements\n",
    "\n",
    "We thank Professor Fabio Gonzalez, Ph.D. and his student John Arevalo for providing this dataset.\n",
    "\n",
    "See https://arxiv.org/abs/1702.01992"
   ]
  },
  {
   "cell_type": "markdown",
   "metadata": {},
   "source": [
    "## Sample Submission"
   ]
  },
  {
   "cell_type": "code",
   "execution_count": 81,
   "metadata": {},
   "outputs": [],
   "source": [
    "import pandas as pd\n",
    "import numpy as np\n",
    "from sklearn.feature_extraction.text import CountVectorizer\n",
    "from sklearn.preprocessing import MultiLabelBinarizer\n",
    "from sklearn.multiclass import OneVsRestClassifier\n",
    "from sklearn.ensemble import RandomForestRegressor, RandomForestClassifier\n",
    "from sklearn.metrics import r2_score, roc_auc_score\n",
    "from sklearn.model_selection import train_test_split"
   ]
  },
  {
   "cell_type": "code",
   "execution_count": 82,
   "metadata": {},
   "outputs": [],
   "source": [
    "dataTraining = pd.read_csv('datasets/dataTraining.csv', encoding='UTF-8', index_col=0)\n",
    "dataTesting = pd.read_csv('datasets/dataTesting.csv', encoding='UTF-8', index_col=0)"
   ]
  },
  {
   "cell_type": "code",
   "execution_count": 83,
   "metadata": {},
   "outputs": [
    {
     "output_type": "execute_result",
     "data": {
      "text/plain": "      year                      title  \\\n3107  2003                       Most   \n900   2008  How to Be a Serial Killer   \n6724  1941             A Woman's Face   \n4704  1954            Executive Suite   \n2582  1990              Narrow Margin   \n\n                                                   plot  \\\n3107  most is the story of a single father who takes...   \n900   a serial killer decides to teach the secrets o...   \n6724  in sweden ,  a female blackmailer with a disfi...   \n4704  in a friday afternoon in new york ,  the presi...   \n2582  in los angeles ,  the editor of a publishing h...   \n\n                                  genres  rating  \n3107                  ['Short', 'Drama']     8.0  \n900        ['Comedy', 'Crime', 'Horror']     5.6  \n6724  ['Drama', 'Film-Noir', 'Thriller']     7.2  \n4704                           ['Drama']     7.4  \n2582     ['Action', 'Crime', 'Thriller']     6.6  ",
      "text/html": "<div>\n<style scoped>\n    .dataframe tbody tr th:only-of-type {\n        vertical-align: middle;\n    }\n\n    .dataframe tbody tr th {\n        vertical-align: top;\n    }\n\n    .dataframe thead th {\n        text-align: right;\n    }\n</style>\n<table border=\"1\" class=\"dataframe\">\n  <thead>\n    <tr style=\"text-align: right;\">\n      <th></th>\n      <th>year</th>\n      <th>title</th>\n      <th>plot</th>\n      <th>genres</th>\n      <th>rating</th>\n    </tr>\n  </thead>\n  <tbody>\n    <tr>\n      <th>3107</th>\n      <td>2003</td>\n      <td>Most</td>\n      <td>most is the story of a single father who takes...</td>\n      <td>['Short', 'Drama']</td>\n      <td>8.0</td>\n    </tr>\n    <tr>\n      <th>900</th>\n      <td>2008</td>\n      <td>How to Be a Serial Killer</td>\n      <td>a serial killer decides to teach the secrets o...</td>\n      <td>['Comedy', 'Crime', 'Horror']</td>\n      <td>5.6</td>\n    </tr>\n    <tr>\n      <th>6724</th>\n      <td>1941</td>\n      <td>A Woman's Face</td>\n      <td>in sweden ,  a female blackmailer with a disfi...</td>\n      <td>['Drama', 'Film-Noir', 'Thriller']</td>\n      <td>7.2</td>\n    </tr>\n    <tr>\n      <th>4704</th>\n      <td>1954</td>\n      <td>Executive Suite</td>\n      <td>in a friday afternoon in new york ,  the presi...</td>\n      <td>['Drama']</td>\n      <td>7.4</td>\n    </tr>\n    <tr>\n      <th>2582</th>\n      <td>1990</td>\n      <td>Narrow Margin</td>\n      <td>in los angeles ,  the editor of a publishing h...</td>\n      <td>['Action', 'Crime', 'Thriller']</td>\n      <td>6.6</td>\n    </tr>\n  </tbody>\n</table>\n</div>"
     },
     "metadata": {},
     "execution_count": 83
    }
   ],
   "source": [
    "dataTraining.head()"
   ]
  },
  {
   "cell_type": "code",
   "execution_count": 84,
   "metadata": {},
   "outputs": [
    {
     "output_type": "execute_result",
     "data": {
      "text/plain": "   year                title  \\\n1  1999  Message in a Bottle   \n4  1978     Midnight Express   \n5  1996          Primal Fear   \n6  1950               Crisis   \n7  1959          The Tingler   \n\n                                                plot  \n1  who meets by fate ,  shall be sealed by fate ....  \n4  the true story of billy hayes ,  an american c...  \n5  martin vail left the chicago da ' s office to ...  \n6  husband and wife americans dr .  eugene and mr...  \n7  the coroner and scientist dr .  warren chapin ...  ",
      "text/html": "<div>\n<style scoped>\n    .dataframe tbody tr th:only-of-type {\n        vertical-align: middle;\n    }\n\n    .dataframe tbody tr th {\n        vertical-align: top;\n    }\n\n    .dataframe thead th {\n        text-align: right;\n    }\n</style>\n<table border=\"1\" class=\"dataframe\">\n  <thead>\n    <tr style=\"text-align: right;\">\n      <th></th>\n      <th>year</th>\n      <th>title</th>\n      <th>plot</th>\n    </tr>\n  </thead>\n  <tbody>\n    <tr>\n      <th>1</th>\n      <td>1999</td>\n      <td>Message in a Bottle</td>\n      <td>who meets by fate ,  shall be sealed by fate ....</td>\n    </tr>\n    <tr>\n      <th>4</th>\n      <td>1978</td>\n      <td>Midnight Express</td>\n      <td>the true story of billy hayes ,  an american c...</td>\n    </tr>\n    <tr>\n      <th>5</th>\n      <td>1996</td>\n      <td>Primal Fear</td>\n      <td>martin vail left the chicago da ' s office to ...</td>\n    </tr>\n    <tr>\n      <th>6</th>\n      <td>1950</td>\n      <td>Crisis</td>\n      <td>husband and wife americans dr .  eugene and mr...</td>\n    </tr>\n    <tr>\n      <th>7</th>\n      <td>1959</td>\n      <td>The Tingler</td>\n      <td>the coroner and scientist dr .  warren chapin ...</td>\n    </tr>\n  </tbody>\n</table>\n</div>"
     },
     "metadata": {},
     "execution_count": 84
    }
   ],
   "source": [
    "dataTesting.head()"
   ]
  },
  {
   "cell_type": "markdown",
   "metadata": {},
   "source": [
    "### Create count vectorizer\n"
   ]
  },
  {
   "cell_type": "code",
   "execution_count": 85,
   "metadata": {},
   "outputs": [
    {
     "output_type": "execute_result",
     "data": {
      "text/plain": "(7895, 5000)"
     },
     "metadata": {},
     "execution_count": 85
    }
   ],
   "source": [
    "vect = CountVectorizer(max_features=5000, lowercase=True, stop_words='english')\n",
    "X_dtm = vect.fit_transform(dataTraining['plot'])\n",
    "X_dtm.shape"
   ]
  },
  {
   "cell_type": "code",
   "execution_count": 86,
   "metadata": {
    "tags": []
   },
   "outputs": [
    {
     "output_type": "stream",
     "name": "stdout",
     "text": "['aaron', 'abandon', 'abandoned', 'abby', 'abducted', 'abe', 'abigail', 'abilities', 'ability', 'able', 'aboard', 'absence', 'absolutely', 'abuse', 'abused', 'abusive', 'academic', 'academy', 'accept', 'acceptance', 'accepted', 'accepting', 'accepts', 'access', 'accident', 'accidental', 'accidentally', 'accompanied', 'accompany', 'accomplish', 'according', 'account', 'accountant', 'accused', 'ace', 'achieve', 'achieving', 'acquaintance', 'acquaintances', 'act', 'acting', 'action', 'actions', 'active', 'activist', 'activities', 'activity', 'actor', 'actors', 'actress']\n"
    }
   ],
   "source": [
    "print(vect.get_feature_names()[:50])"
   ]
  },
  {
   "cell_type": "code",
   "execution_count": null,
   "metadata": {},
   "outputs": [],
   "source": []
  },
  {
   "cell_type": "markdown",
   "metadata": {},
   "source": [
    "### Create y"
   ]
  },
  {
   "cell_type": "code",
   "execution_count": 87,
   "metadata": {},
   "outputs": [],
   "source": [
    "dataTraining['genres'] = dataTraining['genres'].map(lambda x: eval(x))\n",
    "le = MultiLabelBinarizer()\n",
    "y_genres = le.fit_transform(dataTraining['genres'])"
   ]
  },
  {
   "cell_type": "code",
   "execution_count": 88,
   "metadata": {},
   "outputs": [
    {
     "output_type": "execute_result",
     "data": {
      "text/plain": "array([[0, 0, 0, ..., 0, 0, 0],\n       [0, 0, 0, ..., 0, 0, 0],\n       [0, 0, 0, ..., 1, 0, 0],\n       ...,\n       [0, 1, 0, ..., 0, 0, 0],\n       [0, 1, 1, ..., 0, 0, 0],\n       [0, 1, 1, ..., 0, 0, 0]])"
     },
     "metadata": {},
     "execution_count": 88
    }
   ],
   "source": [
    "y_genres"
   ]
  },
  {
   "cell_type": "code",
   "execution_count": 89,
   "metadata": {},
   "outputs": [],
   "source": [
    "X_train, X_test, y_train_genres, y_test_genres = train_test_split(X_dtm, y_genres, test_size=0.3, random_state=666)"
   ]
  },
  {
   "cell_type": "markdown",
   "metadata": {},
   "source": [
    "### Train multi-class multi-label model"
   ]
  },
  {
   "cell_type": "code",
   "execution_count": 90,
   "metadata": {},
   "outputs": [],
   "source": [
    "clf = OneVsRestClassifier(RandomForestClassifier(n_jobs=-1, n_estimators=1000, max_depth=20, random_state=666, bootstrap=True))"
   ]
  },
  {
   "cell_type": "code",
   "execution_count": 91,
   "metadata": {},
   "outputs": [
    {
     "output_type": "execute_result",
     "data": {
      "text/plain": "OneVsRestClassifier(estimator=RandomForestClassifier(bootstrap=True,\n                                                     ccp_alpha=0.0,\n                                                     class_weight=None,\n                                                     criterion='gini',\n                                                     max_depth=20,\n                                                     max_features='auto',\n                                                     max_leaf_nodes=None,\n                                                     max_samples=None,\n                                                     min_impurity_decrease=0.0,\n                                                     min_impurity_split=None,\n                                                     min_samples_leaf=1,\n                                                     min_samples_split=2,\n                                                     min_weight_fraction_leaf=0.0,\n                                                     n_estimators=1000,\n                                                     n_jobs=-1, oob_score=False,\n                                                     random_state=666,\n                                                     verbose=0,\n                                                     warm_start=False),\n                    n_jobs=None)"
     },
     "metadata": {},
     "execution_count": 91
    }
   ],
   "source": [
    "clf.fit(X_train, y_train_genres)"
   ]
  },
  {
   "cell_type": "code",
   "execution_count": 93,
   "metadata": {},
   "outputs": [],
   "source": [
    "y_pred_genres = clf.predict_proba(X_test)"
   ]
  },
  {
   "cell_type": "code",
   "execution_count": 94,
   "metadata": {},
   "outputs": [
    {
     "output_type": "execute_result",
     "data": {
      "text/plain": "0.8302188715841989"
     },
     "metadata": {},
     "execution_count": 94
    }
   ],
   "source": [
    "roc_auc_score(y_test_genres, y_pred_genres, average='macro')"
   ]
  },
  {
   "cell_type": "markdown",
   "metadata": {},
   "source": [
    "### Predict the testing dataset"
   ]
  },
  {
   "cell_type": "code",
   "execution_count": 95,
   "metadata": {},
   "outputs": [],
   "source": [
    "X_test_dtm = vect.transform(dataTesting['plot'])\n",
    "\n",
    "cols = ['p_Action', 'p_Adventure', 'p_Animation', 'p_Biography', 'p_Comedy', 'p_Crime', 'p_Documentary', 'p_Drama', 'p_Family',\n",
    "        'p_Fantasy', 'p_Film-Noir', 'p_History', 'p_Horror', 'p_Music', 'p_Musical', 'p_Mystery', 'p_News', 'p_Romance',\n",
    "        'p_Sci-Fi', 'p_Short', 'p_Sport', 'p_Thriller', 'p_War', 'p_Western']\n",
    "\n",
    "y_pred_test_genres = clf.predict_proba(X_test_dtm)\n"
   ]
  },
  {
   "cell_type": "code",
   "execution_count": 96,
   "metadata": {},
   "outputs": [],
   "source": [
    "res = pd.DataFrame(y_pred_test_genres, index=dataTesting.index, columns=cols)"
   ]
  },
  {
   "cell_type": "code",
   "execution_count": 97,
   "metadata": {},
   "outputs": [
    {
     "output_type": "execute_result",
     "data": {
      "text/plain": "   p_Action  p_Adventure  p_Animation  p_Biography  p_Comedy   p_Crime  \\\n1  0.106588     0.091338     0.021865     0.029514  0.376928  0.116531   \n4  0.113844     0.094361     0.022843     0.045524  0.321967  0.165270   \n5  0.171995     0.112100     0.022352     0.090874  0.265742  0.483691   \n6  0.145665     0.094412     0.021922     0.049061  0.277727  0.122885   \n7  0.183791     0.135110     0.021054     0.034805  0.362454  0.242562   \n\n   p_Documentary   p_Drama  p_Family  p_Fantasy  ...  p_Musical  p_Mystery  \\\n1       0.030724  0.513936  0.059947   0.065514  ...   0.022460   0.058365   \n4       0.034417  0.550499  0.068469   0.059467  ...   0.019727   0.058633   \n5       0.032740  0.651209  0.087354   0.083917  ...   0.030502   0.261720   \n6       0.049814  0.608170  0.063023   0.086744  ...   0.037223   0.086391   \n7       0.031006  0.382868  0.075649   0.136196  ...   0.035155   0.118254   \n\n     p_News  p_Romance  p_Sci-Fi   p_Short   p_Sport  p_Thriller     p_War  \\\n1  0.000050   0.312965  0.048691  0.012532  0.013496    0.172860  0.017591   \n4  0.000397   0.158345  0.048442  0.006002  0.015120    0.193362  0.023796   \n5  0.000060   0.276785  0.070312  0.019299  0.028799    0.437291  0.030422   \n6  0.000017   0.242480  0.089068  0.005820  0.024144    0.298621  0.060756   \n7  0.000043   0.182180  0.401973  0.016600  0.014321    0.290829  0.017141   \n\n   p_Western  \n1   0.013758  \n4   0.013547  \n5   0.019231  \n6   0.018048  \n7   0.015429  \n\n[5 rows x 24 columns]",
      "text/html": "<div>\n<style scoped>\n    .dataframe tbody tr th:only-of-type {\n        vertical-align: middle;\n    }\n\n    .dataframe tbody tr th {\n        vertical-align: top;\n    }\n\n    .dataframe thead th {\n        text-align: right;\n    }\n</style>\n<table border=\"1\" class=\"dataframe\">\n  <thead>\n    <tr style=\"text-align: right;\">\n      <th></th>\n      <th>p_Action</th>\n      <th>p_Adventure</th>\n      <th>p_Animation</th>\n      <th>p_Biography</th>\n      <th>p_Comedy</th>\n      <th>p_Crime</th>\n      <th>p_Documentary</th>\n      <th>p_Drama</th>\n      <th>p_Family</th>\n      <th>p_Fantasy</th>\n      <th>...</th>\n      <th>p_Musical</th>\n      <th>p_Mystery</th>\n      <th>p_News</th>\n      <th>p_Romance</th>\n      <th>p_Sci-Fi</th>\n      <th>p_Short</th>\n      <th>p_Sport</th>\n      <th>p_Thriller</th>\n      <th>p_War</th>\n      <th>p_Western</th>\n    </tr>\n  </thead>\n  <tbody>\n    <tr>\n      <th>1</th>\n      <td>0.106588</td>\n      <td>0.091338</td>\n      <td>0.021865</td>\n      <td>0.029514</td>\n      <td>0.376928</td>\n      <td>0.116531</td>\n      <td>0.030724</td>\n      <td>0.513936</td>\n      <td>0.059947</td>\n      <td>0.065514</td>\n      <td>...</td>\n      <td>0.022460</td>\n      <td>0.058365</td>\n      <td>0.000050</td>\n      <td>0.312965</td>\n      <td>0.048691</td>\n      <td>0.012532</td>\n      <td>0.013496</td>\n      <td>0.172860</td>\n      <td>0.017591</td>\n      <td>0.013758</td>\n    </tr>\n    <tr>\n      <th>4</th>\n      <td>0.113844</td>\n      <td>0.094361</td>\n      <td>0.022843</td>\n      <td>0.045524</td>\n      <td>0.321967</td>\n      <td>0.165270</td>\n      <td>0.034417</td>\n      <td>0.550499</td>\n      <td>0.068469</td>\n      <td>0.059467</td>\n      <td>...</td>\n      <td>0.019727</td>\n      <td>0.058633</td>\n      <td>0.000397</td>\n      <td>0.158345</td>\n      <td>0.048442</td>\n      <td>0.006002</td>\n      <td>0.015120</td>\n      <td>0.193362</td>\n      <td>0.023796</td>\n      <td>0.013547</td>\n    </tr>\n    <tr>\n      <th>5</th>\n      <td>0.171995</td>\n      <td>0.112100</td>\n      <td>0.022352</td>\n      <td>0.090874</td>\n      <td>0.265742</td>\n      <td>0.483691</td>\n      <td>0.032740</td>\n      <td>0.651209</td>\n      <td>0.087354</td>\n      <td>0.083917</td>\n      <td>...</td>\n      <td>0.030502</td>\n      <td>0.261720</td>\n      <td>0.000060</td>\n      <td>0.276785</td>\n      <td>0.070312</td>\n      <td>0.019299</td>\n      <td>0.028799</td>\n      <td>0.437291</td>\n      <td>0.030422</td>\n      <td>0.019231</td>\n    </tr>\n    <tr>\n      <th>6</th>\n      <td>0.145665</td>\n      <td>0.094412</td>\n      <td>0.021922</td>\n      <td>0.049061</td>\n      <td>0.277727</td>\n      <td>0.122885</td>\n      <td>0.049814</td>\n      <td>0.608170</td>\n      <td>0.063023</td>\n      <td>0.086744</td>\n      <td>...</td>\n      <td>0.037223</td>\n      <td>0.086391</td>\n      <td>0.000017</td>\n      <td>0.242480</td>\n      <td>0.089068</td>\n      <td>0.005820</td>\n      <td>0.024144</td>\n      <td>0.298621</td>\n      <td>0.060756</td>\n      <td>0.018048</td>\n    </tr>\n    <tr>\n      <th>7</th>\n      <td>0.183791</td>\n      <td>0.135110</td>\n      <td>0.021054</td>\n      <td>0.034805</td>\n      <td>0.362454</td>\n      <td>0.242562</td>\n      <td>0.031006</td>\n      <td>0.382868</td>\n      <td>0.075649</td>\n      <td>0.136196</td>\n      <td>...</td>\n      <td>0.035155</td>\n      <td>0.118254</td>\n      <td>0.000043</td>\n      <td>0.182180</td>\n      <td>0.401973</td>\n      <td>0.016600</td>\n      <td>0.014321</td>\n      <td>0.290829</td>\n      <td>0.017141</td>\n      <td>0.015429</td>\n    </tr>\n  </tbody>\n</table>\n<p>5 rows × 24 columns</p>\n</div>"
     },
     "metadata": {},
     "execution_count": 97
    }
   ],
   "source": [
    "res.head()"
   ]
  },
  {
   "cell_type": "code",
   "execution_count": 98,
   "metadata": {},
   "outputs": [],
   "source": [
    "res.to_csv('pred_genres_text_RF.csv', index_label='ID')"
   ]
  },
  {
   "cell_type": "code",
   "execution_count": null,
   "metadata": {},
   "outputs": [],
   "source": []
  }
 ],
 "metadata": {
  "kernelspec": {
   "display_name": "Python 3",
   "language": "python",
   "name": "python3"
  },
  "language_info": {
   "codemirror_mode": {
    "name": "ipython",
    "version": 3
   },
   "file_extension": ".py",
   "mimetype": "text/x-python",
   "name": "python",
   "nbconvert_exporter": "python",
   "pygments_lexer": "ipython3",
   "version": "3.7.6-final"
  }
 },
 "nbformat": 4,
 "nbformat_minor": 4
}