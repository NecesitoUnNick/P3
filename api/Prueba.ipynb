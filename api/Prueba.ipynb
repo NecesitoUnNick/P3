{
 "cells": [
  {
   "cell_type": "code",
   "execution_count": 57,
   "metadata": {
    "tags": []
   },
   "outputs": [
    {
     "output_type": "stream",
     "name": "stderr",
     "text": "[nltk_data] Downloading package wordnet to\n[nltk_data]     C:\\Users\\carlo\\AppData\\Roaming\\nltk_data...\n[nltk_data]   Package wordnet is already up-to-date!\n"
    }
   ],
   "source": [
    "import os\n",
    "import pandas as pd\n",
    "import nltk\n",
    "import numpy as np\n",
    "from nltk.stem import WordNetLemmatizer\n",
    "nltk.download('wordnet')\n",
    "from sklearn.feature_extraction.text import TfidfVectorizer\n",
    "import joblib\n",
    "import sys\n",
    "import os\n",
    "import pickle"
   ]
  },
  {
   "cell_type": "code",
   "execution_count": 26,
   "metadata": {},
   "outputs": [],
   "source": [
    "Year = 1941\n",
    "Title = \"A Woman's Face\"\n",
    "Plot = \"in sweden ,  a female blackmailer with a disfiguring facial scar meets a gentleman who lives beyond his means .  they become accomplices in blackmail ,  and she falls in love with him ,  bitterly resigned to the impossibility of his returning her affection .  her life changes when one of her victims proves to be the wife of a plastic surgeon ,  who catches her in his apartment ,  but believes her to be a jewel thief rather than a blackmailer .  he offers her the chance to look like a normal woman again ,  and she accepts ,  despite the agony of multiple operations .  meanwhile ,  her gentleman accomplice forms an evil scheme to rid himself of the one person who stands in his way to a fortune  -  his four - year - old - nephew .\""
   ]
  },
  {
   "cell_type": "code",
   "execution_count": 93,
   "metadata": {},
   "outputs": [],
   "source": [
    "clf = joblib.load('model_logit.pkl')\n",
    "with open(\"vocabulary.txt\", \"rb\") as fp:\n",
    "    voc_ = pickle.load(fp)\n",
    "with open(\"th.txt\", \"rb\") as fp:\n",
    "    th = pickle.load(fp)\n",
    "\n",
    "data=pd.DataFrame({'year':[Year],\n",
    "    'title':[Title],\n",
    "    'plot':[Plot]})\n"
   ]
  },
  {
   "cell_type": "code",
   "execution_count": 28,
   "metadata": {},
   "outputs": [],
   "source": [
    "\n",
    "data['title']=data['title'].str.lower()\n",
    "data['title']=data['title'].str.replace(',', '') \n",
    "data['title']=data['title'].str.replace('.', '') \n",
    "data['title']=data['title'].str.replace('-', '') \n",
    "data['title']=data['title'].str.replace('_', '') \n",
    "data['plot']=data['plot'].str.lower()\n",
    "data['plot']=data['plot'].str.replace(',', '') \n",
    "data['plot']=data['plot'].str.replace('.', '') \n",
    "data['plot']=data['plot'].str.replace('-', '') \n",
    "data['plot']=data['plot'].str.replace('_', '')\n",
    "data['uno'] = data['title']+data['plot']\n",
    "data.drop(['title','plot'], axis=1, inplace=True)"
   ]
  },
  {
   "cell_type": "code",
   "execution_count": 29,
   "metadata": {},
   "outputs": [],
   "source": [
    "wordnet_lemmatizer = WordNetLemmatizer()\n",
    "def split_into_lemmas(text):\n",
    "    text = text.lower()\n",
    "    words = text.split()\n",
    "    return [wordnet_lemmatizer.lemmatize(word, 's') for word in words]\n"
   ]
  },
  {
   "cell_type": "code",
   "execution_count": 30,
   "metadata": {},
   "outputs": [],
   "source": [
    "vect = TfidfVectorizer(analyzer=split_into_lemmas,\n",
    "                        min_df=2,\n",
    "                        max_features=25564,\n",
    "                        sublinear_tf=True,\n",
    "                        strip_accents='unicode',\n",
    "                        ngram_range=(1,3),\n",
    "                        stop_words='english',\n",
    "                        vocabulary=voc_)"
   ]
  },
  {
   "cell_type": "code",
   "execution_count": 31,
   "metadata": {},
   "outputs": [],
   "source": [
    "X_dtm = vect.fit_transform(data['uno'], data['year'])"
   ]
  },
  {
   "cell_type": "code",
   "execution_count": 32,
   "metadata": {},
   "outputs": [
    {
     "output_type": "execute_result",
     "data": {
      "text/plain": "<1x25564 sparse matrix of type '<class 'numpy.float64'>'\n\twith 82 stored elements in Compressed Sparse Row format>"
     },
     "metadata": {},
     "execution_count": 32
    }
   ],
   "source": [
    "X_dtm"
   ]
  },
  {
   "cell_type": "code",
   "execution_count": 142,
   "metadata": {},
   "outputs": [],
   "source": [
    "cols = np.array(['Action', 'Adventure', 'Animation', 'Biography', 'Comedy', 'Crime', 'Documentary', 'Drama', 'Family',\n",
    "    'Fantasy', 'Film-Noir', 'History', 'Horror', 'Music', 'Musical', 'Mystery', 'News', 'Romance',\n",
    "    'Sci-Fi', 'Short', 'Sport', 'Thriller', 'War', 'Western']).reshape((24,1))\n",
    "\n",
    "genres = np.transpose(clf.predict_proba(X_dtm))\n",
    "genres2 = np.copy(genres)\n",
    "for i in range(0,len(th)):\n",
    "    genres2[i] = int(genres2[i]>th[i])\n",
    "\n",
    "data = np.append(cols, np.round(genres,2), axis=1)\n",
    "data = np.append(data, genres2, axis=1)\n",
    "res = pd.DataFrame(data, columns=['Genre','Prob','Val'])\n",
    "res = res[genres2 != 0]\n",
    "res.sort_values('Prob', ascending=False, inplace=True)\n",
    "res.drop(['Val'], axis=1, inplace=True)\n",
    "res.reset_index(drop=True, inplace=True)"
   ]
  },
  {
   "cell_type": "code",
   "execution_count": 143,
   "metadata": {},
   "outputs": [
    {
     "output_type": "execute_result",
     "data": {
      "text/plain": "       Genre  Prob\n0      Drama   0.9\n1    Romance  0.86\n2      Crime  0.17\n3    Mystery  0.12\n4    Fantasy  0.09\n5  Film-Noir  0.04\n6    Musical  0.04",
      "text/html": "<div>\n<style scoped>\n    .dataframe tbody tr th:only-of-type {\n        vertical-align: middle;\n    }\n\n    .dataframe tbody tr th {\n        vertical-align: top;\n    }\n\n    .dataframe thead th {\n        text-align: right;\n    }\n</style>\n<table border=\"1\" class=\"dataframe\">\n  <thead>\n    <tr style=\"text-align: right;\">\n      <th></th>\n      <th>Genre</th>\n      <th>Prob</th>\n    </tr>\n  </thead>\n  <tbody>\n    <tr>\n      <th>0</th>\n      <td>Drama</td>\n      <td>0.9</td>\n    </tr>\n    <tr>\n      <th>1</th>\n      <td>Romance</td>\n      <td>0.86</td>\n    </tr>\n    <tr>\n      <th>2</th>\n      <td>Crime</td>\n      <td>0.17</td>\n    </tr>\n    <tr>\n      <th>3</th>\n      <td>Mystery</td>\n      <td>0.12</td>\n    </tr>\n    <tr>\n      <th>4</th>\n      <td>Fantasy</td>\n      <td>0.09</td>\n    </tr>\n    <tr>\n      <th>5</th>\n      <td>Film-Noir</td>\n      <td>0.04</td>\n    </tr>\n    <tr>\n      <th>6</th>\n      <td>Musical</td>\n      <td>0.04</td>\n    </tr>\n  </tbody>\n</table>\n</div>"
     },
     "metadata": {},
     "execution_count": 143
    }
   ],
   "source": [
    "res"
   ]
  },
  {
   "cell_type": "code",
   "execution_count": 106,
   "metadata": {},
   "outputs": [],
   "source": []
  },
  {
   "cell_type": "code",
   "execution_count": 107,
   "metadata": {},
   "outputs": [
    {
     "output_type": "execute_result",
     "data": {
      "text/plain": "array([[0.],\n       [0.],\n       [0.],\n       [0.],\n       [0.],\n       [1.],\n       [0.],\n       [1.],\n       [0.],\n       [1.],\n       [1.],\n       [0.],\n       [0.],\n       [0.],\n       [1.],\n       [1.],\n       [0.],\n       [1.],\n       [0.],\n       [0.],\n       [0.],\n       [0.],\n       [0.],\n       [0.]])"
     },
     "metadata": {},
     "execution_count": 107
    }
   ],
   "source": [
    "genres"
   ]
  },
  {
   "cell_type": "code",
   "execution_count": null,
   "metadata": {},
   "outputs": [],
   "source": []
  },
  {
   "cell_type": "code",
   "execution_count": 92,
   "metadata": {
    "tags": []
   },
   "outputs": [
    {
     "output_type": "stream",
     "name": "stdout",
     "text": "Probability table of movie genres\n       Genre                    Prob\n       Drama      0.9022209708338398\n     Romance       0.864253965199702\n      Comedy      0.2604862733589537\n    Thriller     0.23277014038661006\n       Crime     0.16735162998101716\n     Mystery     0.12124819844487446\n     Fantasy     0.08949329024022601\n   Adventure    0.053402262921874846\n      Horror     0.04365057285038115\n   Film-Noir     0.04184276600780621\n     Musical     0.04140074323223314\n      Family    0.025031455626119647\n   Biography      0.0175944264479467\n     History     0.01347988239045166\n     Western     0.01065461189148406\n      Sci-Fi    0.009699401964983633\n       Music    0.009135758769246017\n         War    0.007589063981345125\n   Animation    0.007237020883891858\n       Sport    0.007086444038598754\n      Action    0.005803930031070418\n       Short    0.004372578324937518\n        News   0.0006197163853451663\n Documentary  0.00018753345643774015\n"
    }
   ],
   "source": [
    "print('Probability table of movie genres')\n",
    "print()"
   ]
  }
 ],
 "metadata": {
  "language_info": {
   "codemirror_mode": {
    "name": "ipython",
    "version": 3
   },
   "file_extension": ".py",
   "mimetype": "text/x-python",
   "name": "python",
   "nbconvert_exporter": "python",
   "pygments_lexer": "ipython3",
   "version": "3.7.6-final"
  },
  "orig_nbformat": 2,
  "kernelspec": {
   "name": "python3",
   "display_name": "Python 3"
  }
 },
 "nbformat": 4,
 "nbformat_minor": 2
}